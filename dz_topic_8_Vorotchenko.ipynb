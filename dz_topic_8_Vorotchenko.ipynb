{
  "nbformat": 4,
  "nbformat_minor": 0,
  "metadata": {
    "colab": {
      "provenance": []
    },
    "kernelspec": {
      "name": "python3",
      "display_name": "Python 3"
    },
    "language_info": {
      "name": "python"
    }
  },
  "cells": [
    {
      "cell_type": "markdown",
      "source": [
        "1. Здійсніть імпорт необхідних пакетів."
      ],
      "metadata": {
        "id": "kdhYjkuva5yT"
      }
    },
    {
      "cell_type": "code",
      "execution_count": 3,
      "metadata": {
        "colab": {
          "base_uri": "https://localhost:8080/"
        },
        "collapsed": true,
        "id": "n8SX85yQYxNO",
        "outputId": "82b5b020-7e37-479f-a7f6-ee80851c8ed4"
      },
      "outputs": [
        {
          "output_type": "stream",
          "name": "stdout",
          "text": [
            "Collecting category_encoders\n",
            "  Downloading category_encoders-2.6.4-py2.py3-none-any.whl.metadata (8.0 kB)\n",
            "Requirement already satisfied: numpy>=1.14.0 in /usr/local/lib/python3.10/dist-packages (from category_encoders) (1.26.4)\n",
            "Requirement already satisfied: scikit-learn>=0.20.0 in /usr/local/lib/python3.10/dist-packages (from category_encoders) (1.5.2)\n",
            "Requirement already satisfied: scipy>=1.0.0 in /usr/local/lib/python3.10/dist-packages (from category_encoders) (1.13.1)\n",
            "Requirement already satisfied: statsmodels>=0.9.0 in /usr/local/lib/python3.10/dist-packages (from category_encoders) (0.14.4)\n",
            "Requirement already satisfied: pandas>=1.0.5 in /usr/local/lib/python3.10/dist-packages (from category_encoders) (2.2.2)\n",
            "Requirement already satisfied: patsy>=0.5.1 in /usr/local/lib/python3.10/dist-packages (from category_encoders) (0.5.6)\n",
            "Requirement already satisfied: python-dateutil>=2.8.2 in /usr/local/lib/python3.10/dist-packages (from pandas>=1.0.5->category_encoders) (2.8.2)\n",
            "Requirement already satisfied: pytz>=2020.1 in /usr/local/lib/python3.10/dist-packages (from pandas>=1.0.5->category_encoders) (2024.2)\n",
            "Requirement already satisfied: tzdata>=2022.7 in /usr/local/lib/python3.10/dist-packages (from pandas>=1.0.5->category_encoders) (2024.2)\n",
            "Requirement already satisfied: six in /usr/local/lib/python3.10/dist-packages (from patsy>=0.5.1->category_encoders) (1.16.0)\n",
            "Requirement already satisfied: joblib>=1.2.0 in /usr/local/lib/python3.10/dist-packages (from scikit-learn>=0.20.0->category_encoders) (1.4.2)\n",
            "Requirement already satisfied: threadpoolctl>=3.1.0 in /usr/local/lib/python3.10/dist-packages (from scikit-learn>=0.20.0->category_encoders) (3.5.0)\n",
            "Requirement already satisfied: packaging>=21.3 in /usr/local/lib/python3.10/dist-packages (from statsmodels>=0.9.0->category_encoders) (24.1)\n",
            "Downloading category_encoders-2.6.4-py2.py3-none-any.whl (82 kB)\n",
            "\u001b[2K   \u001b[90m━━━━━━━━━━━━━━━━━━━━━━━━━━━━━━━━━━━━━━━━\u001b[0m \u001b[32m82.0/82.0 kB\u001b[0m \u001b[31m2.5 MB/s\u001b[0m eta \u001b[36m0:00:00\u001b[0m\n",
            "\u001b[?25hInstalling collected packages: category_encoders\n",
            "Successfully installed category_encoders-2.6.4\n",
            "Requirement already satisfied: gdown in /usr/local/lib/python3.10/dist-packages (5.2.0)\n",
            "Requirement already satisfied: beautifulsoup4 in /usr/local/lib/python3.10/dist-packages (from gdown) (4.12.3)\n",
            "Requirement already satisfied: filelock in /usr/local/lib/python3.10/dist-packages (from gdown) (3.16.1)\n",
            "Requirement already satisfied: requests[socks] in /usr/local/lib/python3.10/dist-packages (from gdown) (2.32.3)\n",
            "Requirement already satisfied: tqdm in /usr/local/lib/python3.10/dist-packages (from gdown) (4.66.5)\n",
            "Requirement already satisfied: soupsieve>1.2 in /usr/local/lib/python3.10/dist-packages (from beautifulsoup4->gdown) (2.6)\n",
            "Requirement already satisfied: charset-normalizer<4,>=2 in /usr/local/lib/python3.10/dist-packages (from requests[socks]->gdown) (3.3.2)\n",
            "Requirement already satisfied: idna<4,>=2.5 in /usr/local/lib/python3.10/dist-packages (from requests[socks]->gdown) (3.10)\n",
            "Requirement already satisfied: urllib3<3,>=1.21.1 in /usr/local/lib/python3.10/dist-packages (from requests[socks]->gdown) (2.2.3)\n",
            "Requirement already satisfied: certifi>=2017.4.17 in /usr/local/lib/python3.10/dist-packages (from requests[socks]->gdown) (2024.8.30)\n",
            "Requirement already satisfied: PySocks!=1.5.7,>=1.5.6 in /usr/local/lib/python3.10/dist-packages (from requests[socks]->gdown) (1.7.1)\n"
          ]
        }
      ],
      "source": [
        "!pip install category_encoders\n",
        "!pip install gdown\n",
        "import gdown\n",
        "import warnings\n",
        "import pandas as pd\n",
        "import numpy as np\n",
        "import category_encoders as ce\n",
        "from sklearn.model_selection import train_test_split\n",
        "from sklearn.preprocessing import KBinsDiscretizer, StandardScaler\n",
        "from sklearn.svm import SVC\n",
        "from sklearn.metrics import accuracy_score, confusion_matrix\n",
        "import matplotlib.pyplot as plt\n",
        "import seaborn as sns\n",
        "from sklearn.impute import SimpleImputer\n",
        "from sklearn.preprocessing import StandardScaler\n",
        "from sklearn.preprocessing import OneHotEncoder\n",
        "from sklearn.model_selection import train_test_split\n",
        "from sklearn.neighbors import KNeighborsRegressor\n",
        "from sklearn.metrics import mean_absolute_percentage_error\n",
        "import category_encoders as ce\n",
        "from scipy.stats import skew, kurtosis"
      ]
    },
    {
      "cell_type": "markdown",
      "source": [
        "2. Завантажте тренувальний mod_04_hw_train_data.csv і валідаційний mod_04_hw_valid_data.csv набори даних, доступні в репозиторії. Цільова змінна — рівень заробітної плати співробітників (Salary)."
      ],
      "metadata": {
        "id": "FQ5E0iupa8XP"
      }
    },
    {
      "cell_type": "code",
      "source": [
        "url = 'https://drive.google.com/uc?id=19Zv1ldUlHPUihmSdRmNhcPwer-AGLYyZ'\n",
        "output = 'mod_04_hw_train_data.csv'\n",
        "gdown.download(url, output, quiet=False)\n",
        "df_train = pd.read_csv(output)\n",
        "\n",
        "url_val = 'https://drive.google.com/uc?id=1NGRGiGJAoHau8GJMLPuDciQiGv4q2Y9a'\n",
        "output_val = 'mod_04_hw_valid_data.csv'\n",
        "gdown.download(url_val, output_val, quiet=False)\n",
        "df_val = pd.read_csv(output_val)"
      ],
      "metadata": {
        "colab": {
          "base_uri": "https://localhost:8080/"
        },
        "id": "KFvPla2QbA78",
        "outputId": "c11b1cc4-4721-45d9-fd45-83b166d815ad"
      },
      "execution_count": 30,
      "outputs": [
        {
          "output_type": "stream",
          "name": "stderr",
          "text": [
            "Downloading...\n",
            "From: https://drive.google.com/uc?id=19Zv1ldUlHPUihmSdRmNhcPwer-AGLYyZ\n",
            "To: /content/mod_04_hw_train_data.csv\n",
            "100%|██████████| 17.2k/17.2k [00:00<00:00, 24.9MB/s]\n",
            "Downloading...\n",
            "From: https://drive.google.com/uc?id=1NGRGiGJAoHau8GJMLPuDciQiGv4q2Y9a\n",
            "To: /content/mod_04_hw_valid_data.csv\n",
            "100%|██████████| 549/549 [00:00<00:00, 1.42MB/s]\n"
          ]
        }
      ]
    },
    {
      "cell_type": "markdown",
      "source": [
        "3. Виконайте первинний дослідницький аналіз даних (EDA), визначте придатність і доцільність використання наявних в наборі ознак для моделювання."
      ],
      "metadata": {
        "id": "Xq2BahU5cEIC"
      }
    },
    {
      "cell_type": "code",
      "source": [
        "numerical_features = ['Experience']\n",
        "categorical_features = ['Qualification', 'Role', 'Cert']"
      ],
      "metadata": {
        "collapsed": true,
        "id": "xU3E6kBId5Yy"
      },
      "execution_count": 31,
      "outputs": []
    },
    {
      "cell_type": "code",
      "source": [
        "columns_to_drop = ['Date_Of_Birth', 'University', 'Phone_Number', 'Name']\n",
        "\n",
        "df_train = df_train.drop(columns=columns_to_drop)\n",
        "df_val = df_val.drop(columns=columns_to_drop)\n",
        "\n",
        "print(\"Remaining columns after dropping:\")\n",
        "print(df_train.columns)\n",
        "\n",
        "print(\"Remaining  df_val columns after dropping:\")\n",
        "print(df_val.columns)"
      ],
      "metadata": {
        "colab": {
          "base_uri": "https://localhost:8080/"
        },
        "id": "pc4n97IxDDfT",
        "outputId": "c3a12cea-3b1b-44bf-e0e6-3daee38164e7"
      },
      "execution_count": 32,
      "outputs": [
        {
          "output_type": "stream",
          "name": "stdout",
          "text": [
            "Remaining columns after dropping:\n",
            "Index(['Experience', 'Qualification', 'Role', 'Cert', 'Salary'], dtype='object')\n",
            "Remaining  df_val columns after dropping:\n",
            "Index(['Experience', 'Qualification', 'Role', 'Cert', 'Salary'], dtype='object')\n"
          ]
        }
      ]
    },
    {
      "cell_type": "code",
      "source": [
        "# Заповнення числових стовпців середнім значенням\n",
        "for column in numerical_features:\n",
        "    df_train[column] = df_train[column].fillna(df_train[column].mean())\n",
        "\n",
        "# Заповнення категоріальних стовпців модою\n",
        "for column in categorical_features:\n",
        "    df_train[column] = df_train[column].fillna(df_train[column].mode()[0])\n",
        "\n",
        "# Перевірка після заповнення\n",
        "print(df_train.isnull().sum())"
      ],
      "metadata": {
        "colab": {
          "base_uri": "https://localhost:8080/"
        },
        "collapsed": true,
        "id": "ZnzcOxGZ-7CI",
        "outputId": "68f9b16d-a279-4b65-a16e-a00670691809"
      },
      "execution_count": 33,
      "outputs": [
        {
          "output_type": "stream",
          "name": "stdout",
          "text": [
            "Experience       0\n",
            "Qualification    0\n",
            "Role             0\n",
            "Cert             0\n",
            "Salary           0\n",
            "dtype: int64\n"
          ]
        }
      ]
    },
    {
      "cell_type": "code",
      "source": [
        "# Очищення від викидів\n",
        "# Метод IQR\n",
        "Q1 = df_train['Experience'].quantile(0.25)\n",
        "Q3 = df_train['Experience'].quantile(0.75)\n",
        "IQR = Q3 - Q1\n",
        "lower_bound = Q1 - 1.5 * IQR\n",
        "upper_bound = Q3 + 1.5 * IQR\n",
        "\n",
        "# Фільтрація викидів\n",
        "train_data = df_train[(df_train['Experience'] >= lower_bound) & (df_train['Experience'] <= upper_bound)]\n",
        "\n",
        "# Перевірка розмірності\n",
        "print(\"Розмірність після очищення:\", df_train.shape)"
      ],
      "metadata": {
        "colab": {
          "base_uri": "https://localhost:8080/"
        },
        "id": "r3cF14uuJtpu",
        "outputId": "9559a143-2983-4da4-b766-9dfd87855687"
      },
      "execution_count": 34,
      "outputs": [
        {
          "output_type": "stream",
          "name": "stdout",
          "text": [
            "Розмірність після очищення: (249, 5)\n"
          ]
        }
      ]
    },
    {
      "cell_type": "markdown",
      "source": [
        "4. Виконайте обробку числових ознак (трансформацію / нормалізацію за допомогою об’єктів StandardScaler або PowerTransformer з пакета sklearn) і кодування категоріальних (наприклад, за допомогою об’єктів OneHotEncoder / TargetEncoder з пакета sklearn або об’єктів з пакета category_encoders)."
      ],
      "metadata": {
        "id": "3btx6xrOZBnI"
      }
    },
    {
      "cell_type": "code",
      "source": [
        "numerical_features = ['Experience']\n",
        "categorical_features = ['Qualification', 'Role', 'Cert']\n",
        "\n",
        "X_train = df_train.drop('Salary', axis=1)\n",
        "y_train = df_train['Salary']\n",
        "\n",
        "scaler = StandardScaler()\n",
        "X_train_numerical = scaler.fit_transform(X_train[numerical_features])\n",
        "\n",
        "encoder = OneHotEncoder(handle_unknown='ignore')\n",
        "X_train_categorical = encoder.fit_transform(X_train[categorical_features]).toarray()\n",
        "\n",
        "X_train_transformed = np.hstack((X_train_numerical, X_train_categorical))"
      ],
      "metadata": {
        "collapsed": true,
        "id": "6Z5tE3bBP7jP"
      },
      "execution_count": 35,
      "outputs": []
    },
    {
      "cell_type": "code",
      "source": [
        "\n",
        "print(X_train_transformed[:5])"
      ],
      "metadata": {
        "colab": {
          "base_uri": "https://localhost:8080/"
        },
        "id": "bSD9h8nmqhZZ",
        "outputId": "c9647992-27b9-4bf9-dbf6-ab60191fa386"
      },
      "execution_count": 10,
      "outputs": [
        {
          "output_type": "stream",
          "name": "stdout",
          "text": [
            "[[-0.29668344  0.          1.          0.          0.          1.\n",
            "   0.          0.          1.        ]\n",
            " [ 1.04791858  0.          0.          1.          0.          0.\n",
            "   1.          0.          1.        ]\n",
            " [ 1.04791858  0.          1.          0.          0.          0.\n",
            "   1.          0.          1.        ]\n",
            " [-0.29668344  1.          0.          0.          0.          1.\n",
            "   0.          1.          0.        ]\n",
            " [ 1.04791858  1.          0.          0.          0.          0.\n",
            "   1.          0.          1.        ]]\n"
          ]
        }
      ]
    },
    {
      "cell_type": "markdown",
      "source": [
        "5. Побудуйте модель за допомогою об'єкта KNeighborsRegressor з пакета sklearn."
      ],
      "metadata": {
        "id": "eO0wLtSKcH32"
      }
    },
    {
      "cell_type": "code",
      "source": [
        "# Ініціалізація моделі\n",
        "model = KNeighborsRegressor(n_neighbors=4, weights='uniform', metric='manhattan')  # Вибір кількості сусідів\n",
        "\n",
        "# Навчання моделі\n",
        "model.fit(X_train_transformed, y_train)\n",
        "\n",
        "# Прогнозування на тренувальному наборі\n",
        "y_pred_train = model.predict(X_train_transformed)\n",
        "\n",
        "# Обчислення MAPE\n",
        "mape = mean_absolute_percentage_error(y_train, y_pred_train)\n",
        "\n",
        "# Виведення результату\n",
        "print(f'Обчислена MAPE: {mape:.2%}')"
      ],
      "metadata": {
        "colab": {
          "base_uri": "https://localhost:8080/"
        },
        "id": "at_AsKlorSVp",
        "outputId": "8fbd8adb-e121-46aa-dea9-8cad57c2ea46"
      },
      "execution_count": 36,
      "outputs": [
        {
          "output_type": "stream",
          "name": "stdout",
          "text": [
            "Обчислена MAPE: 3.56%\n"
          ]
        }
      ]
    },
    {
      "cell_type": "markdown",
      "source": [
        "6. Виконайте аналогічні етапи обробки і підготовки даних для валідаційного набору, подібно до того, як ми це робили у темі «Метод опорних векторів (SVM)» в розділі «Практика застосування SVM-класифікатора. Навчання й оцінка моделі. Приклад використання моделі)» ."
      ],
      "metadata": {
        "id": "I87ufewLcKKp"
      }
    },
    {
      "cell_type": "code",
      "source": [
        "# Підготовка валідаційних даних\n",
        "X_valid = df_val.drop('Salary', axis=1)\n",
        "y_valid = df_val['Salary']\n",
        "\n",
        "# Нормалізація числових ознак\n",
        "X_valid_numerical = scaler.transform(X_valid[numerical_features])\n",
        "\n",
        "# Кодування категоріальних ознак\n",
        "X_valid_categorical = encoder.transform(X_valid[categorical_features]).toarray()\n",
        "\n",
        "# Об'єднання числових і категоріальних ознак\n",
        "X_valid_transformed = np.hstack((X_valid_numerical, X_valid_categorical))\n",
        "\n",
        "# Прогнозування на валідаційному наборі\n",
        "y_pred_valid = model.predict(X_valid_transformed)\n",
        "\n",
        "# Обчислення MAPE для валідаційного набору\n",
        "mape_valid = mean_absolute_percentage_error(y_valid, y_pred_valid)\n",
        "print(f'MAPE для валідаційного набору: {mape_valid:.2%}')"
      ],
      "metadata": {
        "colab": {
          "base_uri": "https://localhost:8080/"
        },
        "id": "ktmDiwm6VNJJ",
        "outputId": "f4599902-adb0-4055-9a87-0f8abbea184d"
      },
      "execution_count": 37,
      "outputs": [
        {
          "output_type": "stream",
          "name": "stdout",
          "text": [
            "MAPE для валідаційного набору: 13.90%\n"
          ]
        }
      ]
    },
    {
      "cell_type": "markdown",
      "source": [
        "7. Отримайте прогноз заробітної плати для нових об’єктів (працівників) із валідаційного набору, розрахуйте доцільні метрики точності регресійної моделі."
      ],
      "metadata": {
        "id": "4wCh_zBIcOfx"
      }
    },
    {
      "cell_type": "code",
      "source": [],
      "metadata": {
        "id": "Yljcex7sVnEi"
      },
      "execution_count": null,
      "outputs": []
    }
  ]
}
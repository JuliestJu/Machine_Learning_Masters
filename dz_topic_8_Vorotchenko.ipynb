{
 "cells": [
  {
   "cell_type": "markdown",
   "metadata": {
    "id": "kdhYjkuva5yT"
   },
   "source": [
    "1. Здійсніть імпорт необхідних пакетів."
   ]
  },
  {
   "cell_type": "code",
   "execution_count": 147,
   "metadata": {
    "colab": {
     "base_uri": "https://localhost:8080/"
    },
    "id": "n8SX85yQYxNO",
    "outputId": "82b5b020-7e37-479f-a7f6-ee80851c8ed4"
   },
   "outputs": [
    {
     "name": "stdout",
     "output_type": "stream",
     "text": [
      "Requirement already satisfied: category_encoders in /opt/anaconda3/lib/python3.12/site-packages (2.6.3)\n",
      "Requirement already satisfied: numpy>=1.14.0 in /opt/anaconda3/lib/python3.12/site-packages (from category_encoders) (1.26.4)\n",
      "Requirement already satisfied: scikit-learn>=0.20.0 in /opt/anaconda3/lib/python3.12/site-packages (from category_encoders) (1.4.2)\n",
      "Requirement already satisfied: scipy>=1.0.0 in /opt/anaconda3/lib/python3.12/site-packages (from category_encoders) (1.13.1)\n",
      "Requirement already satisfied: statsmodels>=0.9.0 in /opt/anaconda3/lib/python3.12/site-packages (from category_encoders) (0.14.2)\n",
      "Requirement already satisfied: pandas>=1.0.5 in /opt/anaconda3/lib/python3.12/site-packages (from category_encoders) (2.2.2)\n",
      "Requirement already satisfied: patsy>=0.5.1 in /opt/anaconda3/lib/python3.12/site-packages (from category_encoders) (0.5.6)\n",
      "Requirement already satisfied: python-dateutil>=2.8.2 in /opt/anaconda3/lib/python3.12/site-packages (from pandas>=1.0.5->category_encoders) (2.9.0.post0)\n",
      "Requirement already satisfied: pytz>=2020.1 in /opt/anaconda3/lib/python3.12/site-packages (from pandas>=1.0.5->category_encoders) (2024.1)\n",
      "Requirement already satisfied: tzdata>=2022.7 in /opt/anaconda3/lib/python3.12/site-packages (from pandas>=1.0.5->category_encoders) (2023.3)\n",
      "Requirement already satisfied: six in /opt/anaconda3/lib/python3.12/site-packages (from patsy>=0.5.1->category_encoders) (1.16.0)\n",
      "Requirement already satisfied: joblib>=1.2.0 in /opt/anaconda3/lib/python3.12/site-packages (from scikit-learn>=0.20.0->category_encoders) (1.4.2)\n",
      "Requirement already satisfied: threadpoolctl>=2.0.0 in /opt/anaconda3/lib/python3.12/site-packages (from scikit-learn>=0.20.0->category_encoders) (2.2.0)\n",
      "Requirement already satisfied: packaging>=21.3 in /opt/anaconda3/lib/python3.12/site-packages (from statsmodels>=0.9.0->category_encoders) (23.2)\n",
      "Requirement already satisfied: gdown in /opt/anaconda3/lib/python3.12/site-packages (5.2.0)\n",
      "Requirement already satisfied: beautifulsoup4 in /opt/anaconda3/lib/python3.12/site-packages (from gdown) (4.12.3)\n",
      "Requirement already satisfied: filelock in /opt/anaconda3/lib/python3.12/site-packages (from gdown) (3.13.1)\n",
      "Requirement already satisfied: requests[socks] in /opt/anaconda3/lib/python3.12/site-packages (from gdown) (2.32.2)\n",
      "Requirement already satisfied: tqdm in /opt/anaconda3/lib/python3.12/site-packages (from gdown) (4.66.4)\n",
      "Requirement already satisfied: soupsieve>1.2 in /opt/anaconda3/lib/python3.12/site-packages (from beautifulsoup4->gdown) (2.5)\n",
      "Requirement already satisfied: charset-normalizer<4,>=2 in /opt/anaconda3/lib/python3.12/site-packages (from requests[socks]->gdown) (2.0.4)\n",
      "Requirement already satisfied: idna<4,>=2.5 in /opt/anaconda3/lib/python3.12/site-packages (from requests[socks]->gdown) (3.7)\n",
      "Requirement already satisfied: urllib3<3,>=1.21.1 in /opt/anaconda3/lib/python3.12/site-packages (from requests[socks]->gdown) (2.2.2)\n",
      "Requirement already satisfied: certifi>=2017.4.17 in /opt/anaconda3/lib/python3.12/site-packages (from requests[socks]->gdown) (2024.8.30)\n",
      "Requirement already satisfied: PySocks!=1.5.7,>=1.5.6 in /opt/anaconda3/lib/python3.12/site-packages (from requests[socks]->gdown) (1.7.1)\n"
     ]
    }
   ],
   "source": [
    "!pip install category_encoders\n",
    "!pip install gdown\n",
    "import gdown\n",
    "import warnings\n",
    "import pandas as pd\n",
    "import numpy as np\n",
    "import category_encoders as ce\n",
    "from scipy import stats\n",
    "from sklearn.model_selection import train_test_split\n",
    "from sklearn.preprocessing import KBinsDiscretizer, StandardScaler\n",
    "from sklearn.svm import SVC\n",
    "from sklearn.metrics import accuracy_score, confusion_matrix\n",
    "import matplotlib.pyplot as plt\n",
    "import seaborn as sns\n",
    "from sklearn.impute import SimpleImputer\n",
    "from sklearn.preprocessing import StandardScaler\n",
    "from sklearn.preprocessing import OneHotEncoder\n",
    "from sklearn.model_selection import train_test_split\n",
    "from sklearn.neighbors import KNeighborsRegressor\n",
    "from sklearn.metrics import mean_absolute_percentage_error\n",
    "import category_encoders as ce\n",
    "from scipy.stats import skew, kurtosis\n",
    "from sklearn.model_selection import cross_val_score\n",
    "from sklearn.metrics import mean_absolute_percentage_error"
   ]
  },
  {
   "cell_type": "markdown",
   "metadata": {
    "id": "FQ5E0iupa8XP"
   },
   "source": [
    "2. Завантажте тренувальний mod_04_hw_train_data.csv і валідаційний mod_04_hw_valid_data.csv набори даних, доступні в репозиторії. Цільова змінна — рівень заробітної плати співробітників (Salary)."
   ]
  },
  {
   "cell_type": "code",
   "execution_count": 148,
   "metadata": {
    "colab": {
     "base_uri": "https://localhost:8080/"
    },
    "id": "KFvPla2QbA78",
    "outputId": "c11b1cc4-4721-45d9-fd45-83b166d815ad"
   },
   "outputs": [
    {
     "name": "stderr",
     "output_type": "stream",
     "text": [
      "Downloading...\n",
      "From: https://drive.google.com/uc?id=19Zv1ldUlHPUihmSdRmNhcPwer-AGLYyZ\n",
      "To: /Users/julia/Developer/GitDownload/Gits_DataScienceMasters/Machine_Learning_Masters/mod_04_hw_train_data.csv\n",
      "100%|██████████| 17.2k/17.2k [00:00<00:00, 14.2MB/s]\n",
      "Downloading...\n",
      "From: https://drive.google.com/uc?id=1NGRGiGJAoHau8GJMLPuDciQiGv4q2Y9a\n",
      "To: /Users/julia/Developer/GitDownload/Gits_DataScienceMasters/Machine_Learning_Masters/mod_04_hw_valid_data.csv\n",
      "100%|██████████| 549/549 [00:00<00:00, 1.34MB/s]\n"
     ]
    }
   ],
   "source": [
    "url = 'https://drive.google.com/uc?id=19Zv1ldUlHPUihmSdRmNhcPwer-AGLYyZ'\n",
    "output = 'mod_04_hw_train_data.csv'\n",
    "gdown.download(url, output, quiet=False)\n",
    "data_train = pd.read_csv(output)\n",
    "\n",
    "url_val = 'https://drive.google.com/uc?id=1NGRGiGJAoHau8GJMLPuDciQiGv4q2Y9a'\n",
    "output_val = 'mod_04_hw_valid_data.csv'\n",
    "gdown.download(url_val, output_val, quiet=False)\n",
    "data_val = pd.read_csv(output_val)"
   ]
  },
  {
   "cell_type": "code",
   "execution_count": 158,
   "metadata": {
    "colab": {
     "base_uri": "https://localhost:8080/"
    },
    "id": "KFvPla2QbA78",
    "outputId": "c11b1cc4-4721-45d9-fd45-83b166d815ad",
    "scrolled": true
   },
   "outputs": [
    {
     "name": "stdout",
     "output_type": "stream",
     "text": [
      "                 Name  Phone_Number  Experience Qualification University  \\\n",
      "0  Jennifer Hernandez  120-602-1220         3.0           Msc      Tier2   \n",
      "1      Timothy Walker  840-675-8650         5.0           PhD      Tier2   \n",
      "2         David Duran  556-293-8643         5.0           Msc      Tier2   \n",
      "3       Gloria Ortega  463-559-7474         3.0           Bsc      Tier3   \n",
      "4      Matthew Steele  968-091-7683         5.0           Bsc      Tier2   \n",
      "\n",
      "     Role Cert Date_Of_Birth  Salary  \n",
      "0     Mid  Yes    25/08/1972   98000  \n",
      "1  Senior  Yes    03/12/2013  135500  \n",
      "2  Senior  Yes    19/07/2002  123500  \n",
      "3     Mid   No    19/02/1970   85000  \n",
      "4  Senior  Yes    20/02/1970  111500  \n",
      "              Name  Phone_Number  Experience Qualification University    Role  \\\n",
      "0   Alvaro Johnson  320-636-8883           7           Bsc      Tier1  Senior   \n",
      "1    Austin Powers  903-121-1691           2           Msc      Tier1     Mid   \n",
      "2      Joshua Phil  673-972-2453           3           Bsc      Tier3     Mid   \n",
      "3  Mirinda Collins  310-364-6925           5           Msc      Tier2  Senior   \n",
      "4   Mustapha Green  401-249-3912           3           PhD      Tier1  Junior   \n",
      "5     Nick Freeman  875-546-2104           6           Bsc      Tier3  Junior   \n",
      "6   Pamela Allison  408-955-5085           2           PhD      Tier2  Junior   \n",
      "\n",
      "  Cert Date_Of_Birth  Salary  \n",
      "0   No    12/03/1978  109300  \n",
      "1  Yes    13/03/1992   84800  \n",
      "2  Yes    19/02/1988   98900  \n",
      "3   No    20/03/1989  116500  \n",
      "4  Yes    21/03/1979   75800  \n",
      "5  Yes    22/03/1982   97300  \n",
      "6   No    23/03/1968   69800  \n",
      "(249, 9)\n",
      "(7, 9)\n"
     ]
    }
   ],
   "source": [
    "print(data_train.head())\n",
    "print(data_val.head(7))\n",
    "print(data_train.shape)\n",
    "print(data_val.shape)"
   ]
  },
  {
   "cell_type": "markdown",
   "metadata": {
    "id": "Xq2BahU5cEIC"
   },
   "source": [
    "3. Виконайте первинний дослідницький аналіз даних (EDA), визначте придатність і доцільність використання наявних в наборі ознак для моделювання."
   ]
  },
  {
   "cell_type": "code",
   "execution_count": 150,
   "metadata": {
    "id": "xU3E6kBId5Yy"
   },
   "outputs": [],
   "source": [
    "numerical_features = ['Experience']\n",
    "categorical_features = ['Qualification', 'Role', 'Cert']"
   ]
  },
  {
   "cell_type": "code",
   "execution_count": 151,
   "metadata": {
    "colab": {
     "base_uri": "https://localhost:8080/"
    },
    "id": "pc4n97IxDDfT",
    "outputId": "c3a12cea-3b1b-44bf-e0e6-3daee38164e7"
   },
   "outputs": [
    {
     "name": "stdout",
     "output_type": "stream",
     "text": [
      "Remaining columns after dropping:\n",
      "Index(['Experience', 'Qualification', 'Role', 'Cert', 'Salary'], dtype='object')\n",
      "Remaining  df_val columns after dropping:\n",
      "Index(['Experience', 'Qualification', 'Role', 'Cert', 'Salary'], dtype='object')\n"
     ]
    }
   ],
   "source": [
    "columns_to_drop = ['Date_Of_Birth', 'University', 'Phone_Number', 'Name']\n",
    "\n",
    "df_train = data_train.drop(columns=columns_to_drop)\n",
    "df_val = data_val.drop(columns=columns_to_drop)\n",
    "\n",
    "print(\"Remaining columns after dropping:\")\n",
    "print(df_train.columns)\n",
    "\n",
    "print(\"Remaining  df_val columns after dropping:\")\n",
    "print(df_val.columns)"
   ]
  },
  {
   "cell_type": "code",
   "execution_count": 152,
   "metadata": {
    "colab": {
     "base_uri": "https://localhost:8080/"
    },
    "id": "ZnzcOxGZ-7CI",
    "outputId": "68f9b16d-a279-4b65-a16e-a00670691809"
   },
   "outputs": [
    {
     "name": "stdout",
     "output_type": "stream",
     "text": [
      "Experience       0\n",
      "Qualification    0\n",
      "Role             0\n",
      "Cert             0\n",
      "Salary           0\n",
      "dtype: int64\n"
     ]
    }
   ],
   "source": [
    "df_train = df_train.fillna(df_train.mode().iloc[0])\n",
    "print(df_train.isnull().sum())"
   ]
  },
  {
   "cell_type": "code",
   "execution_count": 153,
   "metadata": {
    "colab": {
     "base_uri": "https://localhost:8080/"
    },
    "id": "r3cF14uuJtpu",
    "outputId": "9559a143-2983-4da4-b766-9dfd87855687",
    "scrolled": true
   },
   "outputs": [
    {
     "name": "stdout",
     "output_type": "stream",
     "text": [
      "\n",
      "Outlier rows based on z-score:\n",
      "     Experience Qualification    Role Cert  Salary\n",
      "75          1.0           Bsc  Junior   No   53500\n",
      "236         1.0           Bsc  Junior   No   49500\n",
      "203         1.0           Bsc  Junior   No   49500\n",
      "239         1.0           Bsc  Junior   No   53500\n",
      "176         1.0           Bsc  Junior   No   53500\n",
      "148         1.0           Bsc  Junior   No   49500\n"
     ]
    }
   ],
   "source": [
    "numerical_features = ['Salary', 'Experience']\n",
    "\n",
    "outlier_indices = []\n",
    "z_score_threshold = 1.86\n",
    "\n",
    "for feature in numerical_features:\n",
    "    z_scores = stats.zscore(df_train[feature])\n",
    "    feature_outliers = df_train.index[np.abs(z_scores) > z_score_threshold].tolist()\n",
    "    outlier_indices.extend(feature_outliers)\n",
    "\n",
    "outlier_indices = list(set(outlier_indices))\n",
    "\n",
    "print(\"\\nOutlier rows based on z-score:\")\n",
    "print(df_train.loc[outlier_indices])\n",
    "\n",
    "df_cleaned = df_train.drop(index=outlier_indices).reset_index(drop=True)"
   ]
  },
  {
   "cell_type": "markdown",
   "metadata": {
    "id": "3btx6xrOZBnI"
   },
   "source": [
    "4. Виконайте обробку числових ознак (трансформацію / нормалізацію за допомогою об’єктів StandardScaler або PowerTransformer з пакета sklearn) і кодування категоріальних (наприклад, за допомогою об’єктів OneHotEncoder / TargetEncoder з пакета sklearn або об’єктів з пакета category_encoders)."
   ]
  },
  {
   "cell_type": "code",
   "execution_count": 154,
   "metadata": {
    "id": "6Z5tE3bBP7jP"
   },
   "outputs": [
    {
     "name": "stdout",
     "output_type": "stream",
     "text": [
      "   Experience  Qualification_Ordinal  Role_Ordinal  Cert_no  Cert_yes\n",
      "0         3.0                    2.0           2.0      0.0       1.0\n",
      "1         5.0                    3.0           3.0      0.0       1.0\n",
      "2         5.0                    2.0           3.0      0.0       1.0\n",
      "3         3.0                    1.0           2.0      1.0       0.0\n",
      "4         5.0                    1.0           3.0      0.0       1.0\n"
     ]
    }
   ],
   "source": [
    "df_train = df_cleaned\n",
    "\n",
    "numerical_features = ['Experience']\n",
    "ordinal_features = ['Qualification', 'Role']\n",
    "one_hot_features = ['Cert']\n",
    "\n",
    "X_train = df_train.drop('Salary', axis=1).copy()\n",
    "y_train = df_train['Salary']\n",
    "\n",
    "X_train['Qualification'] = X_train['Qualification'].str.lower()\n",
    "X_train['Role'] = X_train['Role'].str.lower()\n",
    "\n",
    "X_train_numerical = X_train[numerical_features].values\n",
    "\n",
    "qualification_mapping = {'bsc': 1, 'msc': 2, 'phd': 3}\n",
    "role_mapping = {'junior': 1, 'mid': 2, 'senior': 3}\n",
    "\n",
    "X_train['Qualification_Ordinal'] = X_train['Qualification'].map(qualification_mapping)\n",
    "X_train['Role_Ordinal'] = X_train['Role'].map(role_mapping)\n",
    "\n",
    "ordinal_feature_names = ['Qualification_Ordinal', 'Role_Ordinal']\n",
    "X_train_ordinal = X_train[ordinal_feature_names].values\n",
    "\n",
    "X_train['Cert'] = X_train['Cert'].str.lower()\n",
    "encoder = OneHotEncoder(handle_unknown='ignore', sparse_output=False)\n",
    "X_train_one_hot = encoder.fit_transform(X_train[one_hot_features])\n",
    "\n",
    "one_hot_feature_names = encoder.get_feature_names_out(one_hot_features)\n",
    "all_feature_names = numerical_features + ordinal_feature_names + list(one_hot_feature_names)\n",
    "\n",
    "X_train_transformed = np.hstack((X_train_numerical, X_train_ordinal, X_train_one_hot))\n",
    "\n",
    "X_train_transformed_df = pd.DataFrame(X_train_transformed, columns=all_feature_names)\n",
    "print(X_train_transformed_df.head())"
   ]
  },
  {
   "cell_type": "markdown",
   "metadata": {
    "id": "eO0wLtSKcH32"
   },
   "source": [
    "5. Побудуйте модель за допомогою об'єкта KNeighborsRegressor з пакета sklearn."
   ]
  },
  {
   "cell_type": "code",
   "execution_count": 155,
   "metadata": {
    "colab": {
     "base_uri": "https://localhost:8080/"
    },
    "id": "at_AsKlorSVp",
    "outputId": "8fbd8adb-e121-46aa-dea9-8cad57c2ea46"
   },
   "outputs": [
    {
     "name": "stdout",
     "output_type": "stream",
     "text": [
      "Обчислена MAPE з крос-валідацією: 4.70%\n"
     ]
    }
   ],
   "source": [
    "model = KNeighborsRegressor(n_neighbors=5, weights='distance',\n",
    "                            algorithm='kd_tree', leaf_size=7,\n",
    "                            p=2, metric='manhattan')\n",
    "\n",
    "cv_scores = cross_val_score(\n",
    "    model,\n",
    "    X_train_transformed,\n",
    "    y_train,\n",
    "    cv=4,\n",
    "    scoring='neg_mean_absolute_percentage_error'\n",
    ")\n",
    "model.fit(X_train_transformed, y_train)\n",
    "cv_mape = -cv_scores\n",
    "mean_cv_mape = cv_mape.mean()\n",
    "\n",
    "print(f'Обчислена MAPE з крос-валідацією: {mean_cv_mape:.2%}')"
   ]
  },
  {
   "cell_type": "markdown",
   "metadata": {
    "id": "I87ufewLcKKp"
   },
   "source": [
    "6. Виконайте аналогічні етапи обробки і підготовки даних для валідаційного набору, подібно до того, як ми це робили у темі «Метод опорних векторів (SVM)» в розділі «Практика застосування SVM-класифікатора. Навчання й оцінка моделі. Приклад використання моделі)» ."
   ]
  },
  {
   "cell_type": "code",
   "execution_count": 156,
   "metadata": {
    "colab": {
     "base_uri": "https://localhost:8080/"
    },
    "id": "ktmDiwm6VNJJ",
    "outputId": "f4599902-adb0-4055-9a87-0f8abbea184d"
   },
   "outputs": [],
   "source": [
    "X_valid = df_val.drop('Salary', axis=1)\n",
    "y_valid = df_val['Salary']\n",
    "\n",
    "X_valid_numerical = X_valid[numerical_features].values\n",
    "\n",
    "for column in ['Qualification', 'Role', 'Cert']:\n",
    "    df_val[column] = df_val[column].fillna(df_train[column].mode().iloc[0])\n",
    "\n",
    "df_val['Qualification'] = df_val['Qualification'].str.lower()\n",
    "df_val['Role'] = df_val['Role'].str.lower()\n",
    "df_val['Cert'] = df_val['Cert'].str.lower()\n",
    "\n",
    "X_val_numerical = df_val[numerical_features].values\n",
    "\n",
    "df_val['Qualification_Ordinal'] = df_val['Qualification'].map(qualification_mapping)\n",
    "df_val['Role_Ordinal'] = df_val['Role'].map(role_mapping)\n",
    "X_val_ordinal = df_val[ordinal_feature_names].values\n",
    "\n",
    "X_val_one_hot = encoder.transform(df_val[one_hot_features])\n",
    "\n",
    "X_val_transformed = np.hstack((X_val_numerical, X_val_ordinal, X_val_one_hot))"
   ]
  },
  {
   "cell_type": "markdown",
   "metadata": {
    "id": "4wCh_zBIcOfx"
   },
   "source": [
    "7. Отримайте прогноз заробітної плати для нових об’єктів (працівників) із валідаційного набору, розрахуйте доцільні метрики точності регресійної моделі."
   ]
  },
  {
   "cell_type": "code",
   "execution_count": 157,
   "metadata": {
    "id": "Yljcex7sVnEi"
   },
   "outputs": [
    {
     "name": "stdout",
     "output_type": "stream",
     "text": [
      "MAPE for the validation set: 10.39%\n"
     ]
    }
   ],
   "source": [
    "y_pred_valid = model.predict(X_val_transformed)\n",
    "\n",
    "mape_valid = mean_absolute_percentage_error(y_valid, y_pred_valid)\n",
    "print(f'MAPE for the validation set: {mape_valid:.2%}')"
   ]
  },
  {
   "cell_type": "markdown",
   "metadata": {},
   "source": [
    "**Висновок**\n",
    "\n",
    "У ході виконання цього проєкту було використано тренувальний набір даних розміром (249, 9) та валідаційний набір даних розміром (7, 9). Очевидна проблема, яка виникає при використанні таких малих вибірок, особливо валідаційної, полягає в недостатній кількості даних для достовірної оцінки моделі. Малий розмір валідаційного набору може призвести до високої варіативності метрик та ненадійних результатів, що ускладнює оцінку здатності моделі до узагальнення на нових даних.\n",
    "\n",
    "Після проведення експлориторного аналізу даних (EDA) були отримані такі інсайти:\n",
    "\n",
    "1. **Ordinalне кодування категоріальних змінних**: Змінні 'Qualification' та 'Role' мають природний порядок ('bsc' < 'msc' < 'phd' для 'Qualification' та 'junior' < 'mid' < 'senior' для 'Role'). Використання ordinalного кодування дозволило моделі врахувати цей порядок, що підвищило точність прогнозування.\n",
    "\n",
    "2. **Особливості змінної 'Experience'**: Змінна 'Experience' містить дискретні значення в діапазоні від 1 до 5. Було вирішено не застосовувати до неї трансформацій або масштабування, оскільки це могло б спотворити її реальний вплив на заробітну плату. Використання її в початковому вигляді допомогло зберегти інформативність цієї змінної.\n",
    "\n",
    "3. **Аналіз викидів**: При виявленні викидів за допомогою z-оцінки було використано поріг 1.86, який був обраний як оптимальний для моделі. Цей поріг дозволив ефективно ідентифікувати викиди без надмірного видалення даних, що сприяло покращенню якості навчання моделі та її здатності до узагальнення.\n",
    "\n",
    "Пропуск кроку розділення даних за допомогою `train_test_split` може мати негативні наслідки для моделі. Без розподілу на тренувальну та тестову вибірки модель може бути піддана перенавчанню, оскільки вона \"бачить\" всі дані під час навчання. Це призводить до того, що модель може неадекватно реагувати на нові, невідомі дані, що знижує її практичну цінність.\n",
    "\n",
    "Фінальна метрика моделі становила MAPE з крос-валідацією 4.70% та MAPE на валідаційному наборі 10.39%. Хоча показник на тренувальних даних є досить низьким, відносно високий показник на валідаційних даних може свідчити про перенавчання моделі або недостатню репрезентативність валідаційного набору через його малий розмір. Це ставить під сумнів достовірність отриманих результатів і вказує на необхідність збору більшого обсягу даних або перегляду методології моделювання.\n",
    "\n",
    "У процесі роботи були виконані кроки, які не привели до бажаного результату та не були включені у фінальний код. Зокрема, використання різних енкодерів та трансформерів для категоріальних змінних не покращило продуктивність моделі. Також експерименти з масштабуванням числових змінних за допомогою скейлерів не дали значного ефекту, особливо враховуючи, що змінна 'Experience' має дискретний характер і не потребує масштабування.\n",
    "\n",
    "Таким чином, для покращення моделі необхідно розглянути можливість збирання більшої кількості даних, переглянути методи передобробки та врахувати потенційні альтернативні алгоритми моделювання."
   ]
  }
 ],
 "metadata": {
  "colab": {
   "provenance": []
  },
  "kernelspec": {
   "display_name": "Python 3 (ipykernel)",
   "language": "python",
   "name": "python3"
  },
  "language_info": {
   "codemirror_mode": {
    "name": "ipython",
    "version": 3
   },
   "file_extension": ".py",
   "mimetype": "text/x-python",
   "name": "python",
   "nbconvert_exporter": "python",
   "pygments_lexer": "ipython3",
   "version": "3.12.2"
  }
 },
 "nbformat": 4,
 "nbformat_minor": 4
}

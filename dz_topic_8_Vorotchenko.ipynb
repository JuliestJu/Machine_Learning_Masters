{
 "cells": [
  {
   "cell_type": "markdown",
   "metadata": {
    "id": "kdhYjkuva5yT"
   },
   "source": [
    "1. Здійсніть імпорт необхідних пакетів."
   ]
  },
  {
   "cell_type": "code",
   "execution_count": 7,
   "metadata": {
    "colab": {
     "base_uri": "https://localhost:8080/"
    },
    "collapsed": true,
    "id": "n8SX85yQYxNO",
    "jupyter": {
     "outputs_hidden": true
    },
    "outputId": "82b5b020-7e37-479f-a7f6-ee80851c8ed4"
   },
   "outputs": [
    {
     "name": "stdout",
     "output_type": "stream",
     "text": [
      "Requirement already satisfied: category_encoders in /opt/anaconda3/lib/python3.12/site-packages (2.6.3)\n",
      "Requirement already satisfied: numpy>=1.14.0 in /opt/anaconda3/lib/python3.12/site-packages (from category_encoders) (1.26.4)\n",
      "Requirement already satisfied: scikit-learn>=0.20.0 in /opt/anaconda3/lib/python3.12/site-packages (from category_encoders) (1.4.2)\n",
      "Requirement already satisfied: scipy>=1.0.0 in /opt/anaconda3/lib/python3.12/site-packages (from category_encoders) (1.13.1)\n",
      "Requirement already satisfied: statsmodels>=0.9.0 in /opt/anaconda3/lib/python3.12/site-packages (from category_encoders) (0.14.2)\n",
      "Requirement already satisfied: pandas>=1.0.5 in /opt/anaconda3/lib/python3.12/site-packages (from category_encoders) (2.2.2)\n",
      "Requirement already satisfied: patsy>=0.5.1 in /opt/anaconda3/lib/python3.12/site-packages (from category_encoders) (0.5.6)\n",
      "Requirement already satisfied: python-dateutil>=2.8.2 in /opt/anaconda3/lib/python3.12/site-packages (from pandas>=1.0.5->category_encoders) (2.9.0.post0)\n",
      "Requirement already satisfied: pytz>=2020.1 in /opt/anaconda3/lib/python3.12/site-packages (from pandas>=1.0.5->category_encoders) (2024.1)\n",
      "Requirement already satisfied: tzdata>=2022.7 in /opt/anaconda3/lib/python3.12/site-packages (from pandas>=1.0.5->category_encoders) (2023.3)\n",
      "Requirement already satisfied: six in /opt/anaconda3/lib/python3.12/site-packages (from patsy>=0.5.1->category_encoders) (1.16.0)\n",
      "Requirement already satisfied: joblib>=1.2.0 in /opt/anaconda3/lib/python3.12/site-packages (from scikit-learn>=0.20.0->category_encoders) (1.4.2)\n",
      "Requirement already satisfied: threadpoolctl>=2.0.0 in /opt/anaconda3/lib/python3.12/site-packages (from scikit-learn>=0.20.0->category_encoders) (2.2.0)\n",
      "Requirement already satisfied: packaging>=21.3 in /opt/anaconda3/lib/python3.12/site-packages (from statsmodels>=0.9.0->category_encoders) (23.2)\n",
      "Requirement already satisfied: gdown in /opt/anaconda3/lib/python3.12/site-packages (5.2.0)\n",
      "Requirement already satisfied: beautifulsoup4 in /opt/anaconda3/lib/python3.12/site-packages (from gdown) (4.12.3)\n",
      "Requirement already satisfied: filelock in /opt/anaconda3/lib/python3.12/site-packages (from gdown) (3.13.1)\n",
      "Requirement already satisfied: requests[socks] in /opt/anaconda3/lib/python3.12/site-packages (from gdown) (2.32.2)\n",
      "Requirement already satisfied: tqdm in /opt/anaconda3/lib/python3.12/site-packages (from gdown) (4.66.4)\n",
      "Requirement already satisfied: soupsieve>1.2 in /opt/anaconda3/lib/python3.12/site-packages (from beautifulsoup4->gdown) (2.5)\n",
      "Requirement already satisfied: charset-normalizer<4,>=2 in /opt/anaconda3/lib/python3.12/site-packages (from requests[socks]->gdown) (2.0.4)\n",
      "Requirement already satisfied: idna<4,>=2.5 in /opt/anaconda3/lib/python3.12/site-packages (from requests[socks]->gdown) (3.7)\n",
      "Requirement already satisfied: urllib3<3,>=1.21.1 in /opt/anaconda3/lib/python3.12/site-packages (from requests[socks]->gdown) (2.2.2)\n",
      "Requirement already satisfied: certifi>=2017.4.17 in /opt/anaconda3/lib/python3.12/site-packages (from requests[socks]->gdown) (2024.8.30)\n",
      "Requirement already satisfied: PySocks!=1.5.7,>=1.5.6 in /opt/anaconda3/lib/python3.12/site-packages (from requests[socks]->gdown) (1.7.1)\n"
     ]
    }
   ],
   "source": [
    "!pip install category_encoders\n",
    "!pip install gdown\n",
    "import gdown\n",
    "import warnings\n",
    "import pandas as pd\n",
    "import numpy as np\n",
    "import category_encoders as ce\n",
    "from sklearn.model_selection import train_test_split\n",
    "from sklearn.preprocessing import KBinsDiscretizer, StandardScaler\n",
    "from sklearn.svm import SVC\n",
    "from sklearn.metrics import accuracy_score, confusion_matrix\n",
    "import matplotlib.pyplot as plt\n",
    "import seaborn as sns\n",
    "from sklearn.impute import SimpleImputer\n",
    "from sklearn.preprocessing import StandardScaler\n",
    "from sklearn.preprocessing import OneHotEncoder\n",
    "from sklearn.model_selection import train_test_split\n",
    "from sklearn.neighbors import KNeighborsRegressor\n",
    "from sklearn.metrics import mean_absolute_percentage_error\n",
    "import category_encoders as ce\n",
    "from scipy.stats import skew, kurtosis"
   ]
  },
  {
   "cell_type": "markdown",
   "metadata": {
    "id": "FQ5E0iupa8XP"
   },
   "source": [
    "2. Завантажте тренувальний mod_04_hw_train_data.csv і валідаційний mod_04_hw_valid_data.csv набори даних, доступні в репозиторії. Цільова змінна — рівень заробітної плати співробітників (Salary)."
   ]
  },
  {
   "cell_type": "code",
   "execution_count": 8,
   "metadata": {
    "colab": {
     "base_uri": "https://localhost:8080/"
    },
    "id": "KFvPla2QbA78",
    "outputId": "c11b1cc4-4721-45d9-fd45-83b166d815ad"
   },
   "outputs": [
    {
     "name": "stderr",
     "output_type": "stream",
     "text": [
      "Downloading...\n",
      "From: https://drive.google.com/uc?id=19Zv1ldUlHPUihmSdRmNhcPwer-AGLYyZ\n",
      "To: /Users/julia/Developer/GitDownload/Gits_DataScienceMasters/Machine_Learning_Masters/mod_04_hw_train_data.csv\n",
      "100%|██████████| 17.2k/17.2k [00:00<00:00, 11.2MB/s]\n",
      "Downloading...\n",
      "From: https://drive.google.com/uc?id=1NGRGiGJAoHau8GJMLPuDciQiGv4q2Y9a\n",
      "To: /Users/julia/Developer/GitDownload/Gits_DataScienceMasters/Machine_Learning_Masters/mod_04_hw_valid_data.csv\n",
      "100%|██████████| 549/549 [00:00<00:00, 878kB/s]\n"
     ]
    }
   ],
   "source": [
    "url = 'https://drive.google.com/uc?id=19Zv1ldUlHPUihmSdRmNhcPwer-AGLYyZ'\n",
    "output = 'mod_04_hw_train_data.csv'\n",
    "gdown.download(url, output, quiet=False)\n",
    "data_train = pd.read_csv(output)\n",
    "\n",
    "url_val = 'https://drive.google.com/uc?id=1NGRGiGJAoHau8GJMLPuDciQiGv4q2Y9a'\n",
    "output_val = 'mod_04_hw_valid_data.csv'\n",
    "gdown.download(url_val, output_val, quiet=False)\n",
    "data_val = pd.read_csv(output_val)"
   ]
  },
  {
   "cell_type": "code",
   "execution_count": 9,
   "metadata": {
    "colab": {
     "base_uri": "https://localhost:8080/"
    },
    "collapsed": true,
    "id": "KFvPla2QbA78",
    "jupyter": {
     "outputs_hidden": true
    },
    "outputId": "c11b1cc4-4721-45d9-fd45-83b166d815ad",
    "scrolled": true
   },
   "outputs": [
    {
     "name": "stdout",
     "output_type": "stream",
     "text": [
      "                 Name  Phone_Number  Experience Qualification University  \\\n",
      "0  Jennifer Hernandez  120-602-1220         3.0           Msc      Tier2   \n",
      "1      Timothy Walker  840-675-8650         5.0           PhD      Tier2   \n",
      "2         David Duran  556-293-8643         5.0           Msc      Tier2   \n",
      "3       Gloria Ortega  463-559-7474         3.0           Bsc      Tier3   \n",
      "4      Matthew Steele  968-091-7683         5.0           Bsc      Tier2   \n",
      "\n",
      "     Role Cert Date_Of_Birth  Salary  \n",
      "0     Mid  Yes    25/08/1972   98000  \n",
      "1  Senior  Yes    03/12/2013  135500  \n",
      "2  Senior  Yes    19/07/2002  123500  \n",
      "3     Mid   No    19/02/1970   85000  \n",
      "4  Senior  Yes    20/02/1970  111500  \n",
      "              Name  Phone_Number  Experience Qualification University    Role  \\\n",
      "0   Alvaro Johnson  320-636-8883           7           Bsc      Tier1  Senior   \n",
      "1    Austin Powers  903-121-1691           2           Msc      Tier1     Mid   \n",
      "2      Joshua Phil  673-972-2453           3           Bsc      Tier3     Mid   \n",
      "3  Mirinda Collins  310-364-6925           5           Msc      Tier2  Senior   \n",
      "4   Mustapha Green  401-249-3912           3           PhD      Tier1  Junior   \n",
      "5     Nick Freeman  875-546-2104           6           Bsc      Tier3  Junior   \n",
      "6   Pamela Allison  408-955-5085           2           PhD      Tier2  Junior   \n",
      "\n",
      "  Cert Date_Of_Birth  Salary  \n",
      "0   No    12/03/1978  109300  \n",
      "1  Yes    13/03/1992   84800  \n",
      "2  Yes    19/02/1988   98900  \n",
      "3   No    20/03/1989  116500  \n",
      "4  Yes    21/03/1979   75800  \n",
      "5  Yes    22/03/1982   97300  \n",
      "6   No    23/03/1968   69800  \n"
     ]
    }
   ],
   "source": [
    "print(data_train.head())\n",
    "print(data_val.head(7))"
   ]
  },
  {
   "cell_type": "markdown",
   "metadata": {
    "id": "Xq2BahU5cEIC"
   },
   "source": [
    "3. Виконайте первинний дослідницький аналіз даних (EDA), визначте придатність і доцільність використання наявних в наборі ознак для моделювання."
   ]
  },
  {
   "cell_type": "code",
   "execution_count": 10,
   "metadata": {
    "id": "xU3E6kBId5Yy"
   },
   "outputs": [],
   "source": [
    "numerical_features = ['Experience']\n",
    "categorical_features = ['Qualification', 'Role', 'Cert']"
   ]
  },
  {
   "cell_type": "code",
   "execution_count": 11,
   "metadata": {
    "colab": {
     "base_uri": "https://localhost:8080/"
    },
    "id": "pc4n97IxDDfT",
    "outputId": "c3a12cea-3b1b-44bf-e0e6-3daee38164e7"
   },
   "outputs": [
    {
     "name": "stdout",
     "output_type": "stream",
     "text": [
      "Remaining columns after dropping:\n",
      "Index(['Experience', 'Qualification', 'Role', 'Cert', 'Salary'], dtype='object')\n",
      "Remaining  df_val columns after dropping:\n",
      "Index(['Experience', 'Qualification', 'Role', 'Cert', 'Salary'], dtype='object')\n"
     ]
    }
   ],
   "source": [
    "columns_to_drop = ['Date_Of_Birth', 'University', 'Phone_Number', 'Name']\n",
    "\n",
    "df_train = data_train.drop(columns=columns_to_drop)\n",
    "df_val = data_val.drop(columns=columns_to_drop)\n",
    "\n",
    "print(\"Remaining columns after dropping:\")\n",
    "print(df_train.columns)\n",
    "\n",
    "print(\"Remaining  df_val columns after dropping:\")\n",
    "print(df_val.columns)"
   ]
  },
  {
   "cell_type": "code",
   "execution_count": 12,
   "metadata": {
    "colab": {
     "base_uri": "https://localhost:8080/"
    },
    "id": "ZnzcOxGZ-7CI",
    "outputId": "68f9b16d-a279-4b65-a16e-a00670691809"
   },
   "outputs": [
    {
     "name": "stdout",
     "output_type": "stream",
     "text": [
      "Experience       0\n",
      "Qualification    0\n",
      "Role             0\n",
      "Cert             0\n",
      "Salary           0\n",
      "dtype: int64\n",
      "   Experience Qualification    Role Cert  Salary\n",
      "0         3.0           Msc     Mid  Yes   98000\n",
      "1         5.0           PhD  Senior  Yes  135500\n",
      "2         5.0           Msc  Senior  Yes  123500\n"
     ]
    }
   ],
   "source": [
    "# Заповнення числових стовпців середнім значенням\n",
    "for column in numerical_features:\n",
    "    df_train[column] = df_train[column].fillna(df_train[column].mode()[0])\n",
    "\n",
    "# Заповнення категоріальних стовпців модою\n",
    "for column in categorical_features:\n",
    "    df_train[column] = df_train[column].fillna(df_train[column].mode()[0])\n",
    "\n",
    "# Перевірка після заповнення\n",
    "print(df_train.isnull().sum())\n",
    "print(df_train.head(3))"
   ]
  },
  {
   "cell_type": "code",
   "execution_count": 13,
   "metadata": {
    "colab": {
     "base_uri": "https://localhost:8080/"
    },
    "id": "r3cF14uuJtpu",
    "outputId": "9559a143-2983-4da4-b766-9dfd87855687"
   },
   "outputs": [
    {
     "name": "stdout",
     "output_type": "stream",
     "text": [
      "Розмірність після очищення: (249, 5)\n",
      "   Experience Qualification    Role Cert  Salary\n",
      "0         3.0           Msc     Mid  Yes   98000\n",
      "1         5.0           PhD  Senior  Yes  135500\n",
      "2         5.0           Msc  Senior  Yes  123500\n"
     ]
    }
   ],
   "source": [
    "Q1 = df_train['Experience'].quantile(0.25)\n",
    "Q3 = df_train['Experience'].quantile(0.75)\n",
    "IQR = Q3 - Q1\n",
    "lower_bound = Q1 - 1.5 * IQR\n",
    "upper_bound = Q3 + 1.5 * IQR\n",
    "\n",
    "train_data = df_train[(df_train['Experience'] >= lower_bound) & (df_train['Experience'] <= upper_bound)]\n",
    "\n",
    "print(\"Розмірність після очищення:\", df_train.shape)\n",
    "print(df_train.head(3))"
   ]
  },
  {
   "cell_type": "markdown",
   "metadata": {
    "id": "3btx6xrOZBnI"
   },
   "source": [
    "4. Виконайте обробку числових ознак (трансформацію / нормалізацію за допомогою об’єктів StandardScaler або PowerTransformer з пакета sklearn) і кодування категоріальних (наприклад, за допомогою об’єктів OneHotEncoder / TargetEncoder з пакета sklearn або об’єктів з пакета category_encoders)."
   ]
  },
  {
   "cell_type": "code",
   "execution_count": 19,
   "metadata": {
    "id": "6Z5tE3bBP7jP"
   },
   "outputs": [
    {
     "name": "stdout",
     "output_type": "stream",
     "text": [
      "   Experience  Qualification_Bsc  Qualification_Msc  Qualification_PhD  \\\n",
      "0         3.0                0.0                1.0                0.0   \n",
      "1         5.0                0.0                0.0                1.0   \n",
      "2         5.0                0.0                1.0                0.0   \n",
      "3         3.0                1.0                0.0                0.0   \n",
      "4         5.0                1.0                0.0                0.0   \n",
      "\n",
      "   Role_Junior  Role_Mid  Role_Senior  Cert_No  Cert_Yes  \n",
      "0          0.0       1.0          0.0      0.0       1.0  \n",
      "1          0.0       0.0          1.0      0.0       1.0  \n",
      "2          0.0       0.0          1.0      0.0       1.0  \n",
      "3          0.0       1.0          0.0      1.0       0.0  \n",
      "4          0.0       0.0          1.0      0.0       1.0  \n"
     ]
    }
   ],
   "source": [
    "# Define feature lists\n",
    "numerical_features = ['Experience']\n",
    "categorical_features = ['Qualification', 'Role', 'Cert']\n",
    "\n",
    "# Separate features and target variable\n",
    "X_train = df_train.drop('Salary', axis=1)\n",
    "y_train = df_train['Salary']\n",
    "\n",
    "# Use numerical features as they are\n",
    "X_train_numerical = X_train[numerical_features].values\n",
    "\n",
    "# One-hot encode categorical features\n",
    "encoder = OneHotEncoder(handle_unknown='ignore')\n",
    "X_train_categorical = encoder.fit_transform(X_train[categorical_features]).toarray()\n",
    "\n",
    "# Combine numerical and categorical features\n",
    "X_train_transformed = np.hstack((X_train_numerical, X_train_categorical))\n",
    "\n",
    "# Get feature names for the categorical features\n",
    "categorical_feature_names = encoder.get_feature_names_out(categorical_features)\n",
    "\n",
    "# Combine all feature names\n",
    "all_feature_names = numerical_features + list(categorical_feature_names)\n",
    "\n",
    "# Create a DataFrame for exploration\n",
    "X_train_transformed_df = pd.DataFrame(X_train_transformed, columns=all_feature_names)"
   ]
  },
  {
   "cell_type": "code",
   "execution_count": 21,
   "metadata": {
    "colab": {
     "base_uri": "https://localhost:8080/"
    },
    "id": "bSD9h8nmqhZZ",
    "outputId": "c9647992-27b9-4bf9-dbf6-ab60191fa386"
   },
   "outputs": [
    {
     "name": "stdout",
     "output_type": "stream",
     "text": [
      "    Experience  Qualification_Bsc  Qualification_Msc  Qualification_PhD  \\\n",
      "0          3.0                0.0                1.0                0.0   \n",
      "1          5.0                0.0                0.0                1.0   \n",
      "2          5.0                0.0                1.0                0.0   \n",
      "3          3.0                1.0                0.0                0.0   \n",
      "4          5.0                1.0                0.0                0.0   \n",
      "5          5.0                0.0                0.0                1.0   \n",
      "6          5.0                0.0                0.0                1.0   \n",
      "7          5.0                1.0                0.0                0.0   \n",
      "8          3.0                1.0                0.0                0.0   \n",
      "9          5.0                0.0                1.0                0.0   \n",
      "10         2.0                0.0                0.0                1.0   \n",
      "11         5.0                1.0                0.0                0.0   \n",
      "12         4.0                1.0                0.0                0.0   \n",
      "13         1.0                0.0                0.0                1.0   \n",
      "14         4.0                0.0                1.0                0.0   \n",
      "15         4.0                0.0                1.0                0.0   \n",
      "16         5.0                0.0                0.0                1.0   \n",
      "17         5.0                1.0                0.0                0.0   \n",
      "18         1.0                0.0                0.0                1.0   \n",
      "19         5.0                1.0                0.0                0.0   \n",
      "\n",
      "    Role_Junior  Role_Mid  Role_Senior  Cert_No  Cert_Yes  \n",
      "0           0.0       1.0          0.0      0.0       1.0  \n",
      "1           0.0       0.0          1.0      0.0       1.0  \n",
      "2           0.0       0.0          1.0      0.0       1.0  \n",
      "3           0.0       1.0          0.0      1.0       0.0  \n",
      "4           0.0       0.0          1.0      0.0       1.0  \n",
      "5           0.0       0.0          1.0      0.0       1.0  \n",
      "6           0.0       0.0          1.0      0.0       1.0  \n",
      "7           0.0       0.0          1.0      0.0       1.0  \n",
      "8           1.0       0.0          0.0      0.0       1.0  \n",
      "9           0.0       0.0          1.0      1.0       0.0  \n",
      "10          0.0       1.0          0.0      0.0       1.0  \n",
      "11          0.0       0.0          1.0      0.0       1.0  \n",
      "12          0.0       0.0          1.0      0.0       1.0  \n",
      "13          0.0       1.0          0.0      1.0       0.0  \n",
      "14          0.0       0.0          1.0      1.0       0.0  \n",
      "15          0.0       0.0          1.0      1.0       0.0  \n",
      "16          0.0       0.0          1.0      0.0       1.0  \n",
      "17          0.0       0.0          1.0      0.0       1.0  \n",
      "18          0.0       1.0          0.0      0.0       1.0  \n",
      "19          0.0       0.0          1.0      0.0       1.0  \n"
     ]
    }
   ],
   "source": [
    "# Now you can explore X_train_transformed_df\n",
    "print(X_train_transformed_df.head(20))"
   ]
  },
  {
   "cell_type": "markdown",
   "metadata": {
    "id": "eO0wLtSKcH32"
   },
   "source": [
    "5. Побудуйте модель за допомогою об'єкта KNeighborsRegressor з пакета sklearn."
   ]
  },
  {
   "cell_type": "code",
   "execution_count": 22,
   "metadata": {
    "colab": {
     "base_uri": "https://localhost:8080/"
    },
    "id": "at_AsKlorSVp",
    "outputId": "8fbd8adb-e121-46aa-dea9-8cad57c2ea46"
   },
   "outputs": [
    {
     "name": "stdout",
     "output_type": "stream",
     "text": [
      "Обчислена MAPE: 3.73%\n"
     ]
    }
   ],
   "source": [
    "model = KNeighborsRegressor(n_neighbors=4, weights='uniform', metric='manhattan')  # Вибір кількості сусідів\n",
    "model.fit(X_train_transformed, y_train)\n",
    "\n",
    "y_pred_train = model.predict(X_train_transformed)\n",
    "mape = mean_absolute_percentage_error(y_train, y_pred_train)\n",
    "\n",
    "print(f'Обчислена MAPE: {mape:.2%}')"
   ]
  },
  {
   "cell_type": "markdown",
   "metadata": {
    "id": "I87ufewLcKKp"
   },
   "source": [
    "6. Виконайте аналогічні етапи обробки і підготовки даних для валідаційного набору, подібно до того, як ми це робили у темі «Метод опорних векторів (SVM)» в розділі «Практика застосування SVM-класифікатора. Навчання й оцінка моделі. Приклад використання моделі)» ."
   ]
  },
  {
   "cell_type": "code",
   "execution_count": 23,
   "metadata": {
    "colab": {
     "base_uri": "https://localhost:8080/"
    },
    "id": "ktmDiwm6VNJJ",
    "outputId": "f4599902-adb0-4055-9a87-0f8abbea184d"
   },
   "outputs": [
    {
     "ename": "NameError",
     "evalue": "name 'scaler' is not defined",
     "output_type": "error",
     "traceback": [
      "\u001b[0;31m---------------------------------------------------------------------------\u001b[0m",
      "\u001b[0;31mNameError\u001b[0m                                 Traceback (most recent call last)",
      "Cell \u001b[0;32mIn[23], line 4\u001b[0m\n\u001b[1;32m      1\u001b[0m X_valid \u001b[38;5;241m=\u001b[39m df_val\u001b[38;5;241m.\u001b[39mdrop(\u001b[38;5;124m'\u001b[39m\u001b[38;5;124mSalary\u001b[39m\u001b[38;5;124m'\u001b[39m, axis\u001b[38;5;241m=\u001b[39m\u001b[38;5;241m1\u001b[39m)\n\u001b[1;32m      2\u001b[0m y_valid \u001b[38;5;241m=\u001b[39m df_val[\u001b[38;5;124m'\u001b[39m\u001b[38;5;124mSalary\u001b[39m\u001b[38;5;124m'\u001b[39m]\n\u001b[0;32m----> 4\u001b[0m X_valid_numerical \u001b[38;5;241m=\u001b[39m scaler\u001b[38;5;241m.\u001b[39mtransform(X_valid[numerical_features])\n\u001b[1;32m      6\u001b[0m X_valid_categorical \u001b[38;5;241m=\u001b[39m encoder\u001b[38;5;241m.\u001b[39mtransform(X_valid[categorical_features])\u001b[38;5;241m.\u001b[39mtoarray()\n\u001b[1;32m      8\u001b[0m X_valid_transformed \u001b[38;5;241m=\u001b[39m np\u001b[38;5;241m.\u001b[39mhstack((X_valid_numerical, X_valid_categorical))\n",
      "\u001b[0;31mNameError\u001b[0m: name 'scaler' is not defined"
     ]
    }
   ],
   "source": [
    "X_valid = df_val.drop('Salary', axis=1)\n",
    "y_valid = df_val['Salary']\n",
    "\n",
    "X_valid_numerical = scaler.transform(X_valid[numerical_features])\n",
    "\n",
    "X_valid_categorical = encoder.transform(X_valid[categorical_features]).toarray()\n",
    "\n",
    "X_valid_transformed = np.hstack((X_valid_numerical, X_valid_categorical))\n",
    "\n",
    "y_pred_valid = model.predict(X_valid_transformed)\n",
    "\n",
    "mape_valid = mean_absolute_percentage_error(y_valid, y_pred_valid)\n",
    "print(f'MAPE для валідаційного набору: {mape_valid:.2%}')"
   ]
  },
  {
   "cell_type": "markdown",
   "metadata": {
    "id": "4wCh_zBIcOfx"
   },
   "source": [
    "7. Отримайте прогноз заробітної плати для нових об’єктів (працівників) із валідаційного набору, розрахуйте доцільні метрики точності регресійної моделі."
   ]
  },
  {
   "cell_type": "code",
   "execution_count": null,
   "metadata": {
    "id": "Yljcex7sVnEi"
   },
   "outputs": [],
   "source": []
  }
 ],
 "metadata": {
  "colab": {
   "provenance": []
  },
  "kernelspec": {
   "display_name": "Python 3 (ipykernel)",
   "language": "python",
   "name": "python3"
  },
  "language_info": {
   "codemirror_mode": {
    "name": "ipython",
    "version": 3
   },
   "file_extension": ".py",
   "mimetype": "text/x-python",
   "name": "python",
   "nbconvert_exporter": "python",
   "pygments_lexer": "ipython3",
   "version": "3.12.2"
  }
 },
 "nbformat": 4,
 "nbformat_minor": 4
}

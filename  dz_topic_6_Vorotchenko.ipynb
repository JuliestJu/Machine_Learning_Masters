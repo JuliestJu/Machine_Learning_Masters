{
 "cells": [
  {
   "cell_type": "code",
   "execution_count": null,
   "metadata": {
    "colab": {
     "base_uri": "https://localhost:8080/"
    },
    "collapsed": true,
    "executionInfo": {
     "elapsed": 17796,
     "status": "ok",
     "timestamp": 1727451561060,
     "user": {
      "displayName": "Julia",
      "userId": "10787706266819933010"
     },
     "user_tz": -180
    },
    "id": "PhI8viLnDIu7",
    "jupyter": {
     "outputs_hidden": true
    },
    "outputId": "e0d72122-60e0-454d-a22d-79e7b8a324e1"
   },
   "outputs": [
    {
     "name": "stdout",
     "output_type": "stream",
     "text": [
      "Requirement already satisfied: gdown in /usr/local/lib/python3.10/dist-packages (5.2.0)\n",
      "Requirement already satisfied: beautifulsoup4 in /usr/local/lib/python3.10/dist-packages (from gdown) (4.12.3)\n",
      "Requirement already satisfied: filelock in /usr/local/lib/python3.10/dist-packages (from gdown) (3.16.1)\n",
      "Requirement already satisfied: requests[socks] in /usr/local/lib/python3.10/dist-packages (from gdown) (2.32.3)\n",
      "Requirement already satisfied: tqdm in /usr/local/lib/python3.10/dist-packages (from gdown) (4.66.5)\n",
      "Requirement already satisfied: soupsieve>1.2 in /usr/local/lib/python3.10/dist-packages (from beautifulsoup4->gdown) (2.6)\n",
      "Requirement already satisfied: charset-normalizer<4,>=2 in /usr/local/lib/python3.10/dist-packages (from requests[socks]->gdown) (3.3.2)\n",
      "Requirement already satisfied: idna<4,>=2.5 in /usr/local/lib/python3.10/dist-packages (from requests[socks]->gdown) (3.10)\n",
      "Requirement already satisfied: urllib3<3,>=1.21.1 in /usr/local/lib/python3.10/dist-packages (from requests[socks]->gdown) (2.2.3)\n",
      "Requirement already satisfied: certifi>=2017.4.17 in /usr/local/lib/python3.10/dist-packages (from requests[socks]->gdown) (2024.8.30)\n",
      "Requirement already satisfied: PySocks!=1.5.7,>=1.5.6 in /usr/local/lib/python3.10/dist-packages (from requests[socks]->gdown) (1.7.1)\n"
     ]
    }
   ],
   "source": [
    "import warnings\n",
    "import pandas as pd\n",
    "import numpy as np\n",
    "from sklearn.metrics import ConfusionMatrixDisplay, classification_report\n",
    "from sklearn.linear_model import LogisticRegression\n",
    "from sklearn.preprocessing import StandardScaler, OneHotEncoder\n",
    "from sklearn.impute import SimpleImputer\n",
    "from sklearn.model_selection import train_test_split\n",
    "import seaborn as sns\n",
    "import matplotlib.pyplot as plt\n",
    "!pip install gdown\n",
    "import gdown"
   ]
  },
  {
   "cell_type": "code",
   "execution_count": null,
   "metadata": {
    "colab": {
     "base_uri": "https://localhost:8080/",
     "height": 122
    },
    "executionInfo": {
     "elapsed": 4997,
     "status": "ok",
     "timestamp": 1727455561337,
     "user": {
      "displayName": "Julia",
      "userId": "10787706266819933010"
     },
     "user_tz": -180
    },
    "id": "69Ynymu7E9XG",
    "outputId": "3d020e4a-8977-445a-8b06-cb2ad9ae69a8"
   },
   "outputs": [
    {
     "name": "stderr",
     "output_type": "stream",
     "text": [
      "Downloading...\n",
      "From: https://drive.google.com/uc?id=1MlvBT3CwGKJ_JYIPFeGVhwfLmEQu513c\n",
      "To: /content/dataset.csv\n",
      "100%|██████████| 3.90M/3.90M [00:00<00:00, 157MB/s]\n"
     ]
    },
    {
     "data": {
      "application/vnd.google.colaboratory.intrinsic+json": {
       "type": "string"
      },
      "text/plain": [
       "'dataset.csv'"
      ]
     },
     "execution_count": 37,
     "metadata": {},
     "output_type": "execute_result"
    }
   ],
   "source": [
    "file_id = '1MlvBT3CwGKJ_JYIPFeGVhwfLmEQu513c'\n",
    "url = f'https://drive.google.com/uc?id={file_id}'\n",
    "\n",
    "output = 'dataset.csv'\n",
    "gdown.download(url, output, quiet=False)"
   ]
  },
  {
   "cell_type": "code",
   "execution_count": null,
   "metadata": {
    "colab": {
     "base_uri": "https://localhost:8080/",
     "height": 804
    },
    "executionInfo": {
     "elapsed": 1133,
     "status": "ok",
     "timestamp": 1727451582360,
     "user": {
      "displayName": "Julia",
      "userId": "10787706266819933010"
     },
     "user_tz": -180
    },
    "id": "Fv7fb804Fu8n",
    "outputId": "85f531dd-6524-4de6-af5e-ce8049894b2e"
   },
   "outputs": [
    {
     "data": {
      "text/html": [
       "<div>\n",
       "<style scoped>\n",
       "    .dataframe tbody tr th:only-of-type {\n",
       "        vertical-align: middle;\n",
       "    }\n",
       "\n",
       "    .dataframe tbody tr th {\n",
       "        vertical-align: top;\n",
       "    }\n",
       "\n",
       "    .dataframe thead th {\n",
       "        text-align: right;\n",
       "    }\n",
       "</style>\n",
       "<table border=\"1\" class=\"dataframe\">\n",
       "  <thead>\n",
       "    <tr style=\"text-align: right;\">\n",
       "      <th></th>\n",
       "      <th>0</th>\n",
       "    </tr>\n",
       "  </thead>\n",
       "  <tbody>\n",
       "    <tr>\n",
       "      <th>Sunshine</th>\n",
       "      <td>0.480098</td>\n",
       "    </tr>\n",
       "    <tr>\n",
       "      <th>Evaporation</th>\n",
       "      <td>0.431665</td>\n",
       "    </tr>\n",
       "    <tr>\n",
       "      <th>Cloud3pm</th>\n",
       "      <td>0.408071</td>\n",
       "    </tr>\n",
       "    <tr>\n",
       "      <th>Cloud9am</th>\n",
       "      <td>0.384216</td>\n",
       "    </tr>\n",
       "    <tr>\n",
       "      <th>Pressure9am</th>\n",
       "      <td>0.103568</td>\n",
       "    </tr>\n",
       "    <tr>\n",
       "      <th>Pressure3pm</th>\n",
       "      <td>0.103314</td>\n",
       "    </tr>\n",
       "    <tr>\n",
       "      <th>WindDir9am</th>\n",
       "      <td>0.072639</td>\n",
       "    </tr>\n",
       "    <tr>\n",
       "      <th>WindGustDir</th>\n",
       "      <td>0.070989</td>\n",
       "    </tr>\n",
       "    <tr>\n",
       "      <th>WindGustSpeed</th>\n",
       "      <td>0.070555</td>\n",
       "    </tr>\n",
       "    <tr>\n",
       "      <th>Humidity3pm</th>\n",
       "      <td>0.030984</td>\n",
       "    </tr>\n",
       "    <tr>\n",
       "      <th>WindDir3pm</th>\n",
       "      <td>0.029066</td>\n",
       "    </tr>\n",
       "    <tr>\n",
       "      <th>Temp3pm</th>\n",
       "      <td>0.024811</td>\n",
       "    </tr>\n",
       "    <tr>\n",
       "      <th>RainTomorrow</th>\n",
       "      <td>0.022460</td>\n",
       "    </tr>\n",
       "    <tr>\n",
       "      <th>Rainfall</th>\n",
       "      <td>0.022419</td>\n",
       "    </tr>\n",
       "    <tr>\n",
       "      <th>RainToday</th>\n",
       "      <td>0.022419</td>\n",
       "    </tr>\n",
       "    <tr>\n",
       "      <th>WindSpeed3pm</th>\n",
       "      <td>0.021050</td>\n",
       "    </tr>\n",
       "    <tr>\n",
       "      <th>Humidity9am</th>\n",
       "      <td>0.018246</td>\n",
       "    </tr>\n",
       "    <tr>\n",
       "      <th>Temp9am</th>\n",
       "      <td>0.012148</td>\n",
       "    </tr>\n",
       "    <tr>\n",
       "      <th>WindSpeed9am</th>\n",
       "      <td>0.012148</td>\n",
       "    </tr>\n",
       "    <tr>\n",
       "      <th>MinTemp</th>\n",
       "      <td>0.010209</td>\n",
       "    </tr>\n",
       "    <tr>\n",
       "      <th>MaxTemp</th>\n",
       "      <td>0.008669</td>\n",
       "    </tr>\n",
       "    <tr>\n",
       "      <th>Location</th>\n",
       "      <td>0.000000</td>\n",
       "    </tr>\n",
       "    <tr>\n",
       "      <th>Date</th>\n",
       "      <td>0.000000</td>\n",
       "    </tr>\n",
       "  </tbody>\n",
       "</table>\n",
       "</div><br><label><b>dtype:</b> float64</label>"
      ],
      "text/plain": [
       "Sunshine         0.480098\n",
       "Evaporation      0.431665\n",
       "Cloud3pm         0.408071\n",
       "Cloud9am         0.384216\n",
       "Pressure9am      0.103568\n",
       "Pressure3pm      0.103314\n",
       "WindDir9am       0.072639\n",
       "WindGustDir      0.070989\n",
       "WindGustSpeed    0.070555\n",
       "Humidity3pm      0.030984\n",
       "WindDir3pm       0.029066\n",
       "Temp3pm          0.024811\n",
       "RainTomorrow     0.022460\n",
       "Rainfall         0.022419\n",
       "RainToday        0.022419\n",
       "WindSpeed3pm     0.021050\n",
       "Humidity9am      0.018246\n",
       "Temp9am          0.012148\n",
       "WindSpeed9am     0.012148\n",
       "MinTemp          0.010209\n",
       "MaxTemp          0.008669\n",
       "Location         0.000000\n",
       "Date             0.000000\n",
       "dtype: float64"
      ]
     },
     "execution_count": 3,
     "metadata": {},
     "output_type": "execute_result"
    }
   ],
   "source": [
    "df = pd.read_csv('dataset.csv', compression='gzip')\n",
    "df.shape\n",
    "df.head()\n",
    "df.dtypes\n",
    "df.isna().mean().sort_values(ascending=False)"
   ]
  },
  {
   "cell_type": "markdown",
   "metadata": {
    "id": "cHPg2uxdIIpR"
   },
   "source": [
    "3.1. Видаліть із набору ознаки з великою кількістю пропущених значень."
   ]
  },
  {
   "cell_type": "code",
   "execution_count": null,
   "metadata": {
    "id": "ym0bsImxIJz3"
   },
   "outputs": [],
   "source": [
    "df = df.dropna(subset=['RainTomorrow'])\n",
    "df = df[df.columns[df.isna().mean().lt(0.35)]]"
   ]
  },
  {
   "cell_type": "markdown",
   "metadata": {
    "id": "ulmtwsQgKIXC"
   },
   "source": [
    "3.2. Створіть підмножини набору даних із числовими та категоріальними ознаками.\n",
    "\n",
    "3.3. Змініть тип колонки Date на тип datetimeі створіть додаткові колонки Year та Month.\n",
    "\n",
    "3.4. Переміcтить створену нову колонку Year з підмножини набору із категоріальними ознаками до підмножини із числовими ознаками."
   ]
  },
  {
   "cell_type": "code",
   "execution_count": null,
   "metadata": {
    "id": "mGoG9QO0KXQG"
   },
   "outputs": [],
   "source": [
    "df['Date'] = pd.to_datetime(df['Date'])\n",
    "df['Year'] = df['Date'].dt.year\n",
    "df['Month'] = df['Date'].dt.month\n",
    "data_num = df.select_dtypes(include=np.number)\n",
    "data_cat = df.select_dtypes(include='object')"
   ]
  },
  {
   "cell_type": "markdown",
   "metadata": {
    "id": "rL4YMORlUoVA"
   },
   "source": [
    "3.5. Розбийте підмножини на тренувальну і тестову вибірки за такою логікою: до тестової вибірки віднесіть всі об'єкти із набору даних із останнім (максимальним) роком спостережень, а для навчання моделі залиште всі інші об'єкти."
   ]
  },
  {
   "cell_type": "code",
   "execution_count": null,
   "metadata": {
    "colab": {
     "base_uri": "https://localhost:8080/"
    },
    "executionInfo": {
     "elapsed": 361,
     "status": "ok",
     "timestamp": 1727452610237,
     "user": {
      "displayName": "Julia",
      "userId": "10787706266819933010"
     },
     "user_tz": -180
    },
    "id": "jT5QvvaQVE2d",
    "outputId": "bd5ef772-51a7-4cf1-a8fa-efbbef748096"
   },
   "outputs": [
    {
     "name": "stdout",
     "output_type": "stream",
     "text": [
      "X_train_num shape: (133727, 13)\n",
      "X_test_num shape: (8466, 13)\n",
      "X_train_cat shape: (133727, 5)\n",
      "X_test_cat shape: (8466, 5)\n",
      "y_train shape: (133727,)\n",
      "y_test shape: (8466,)\n"
     ]
    }
   ],
   "source": [
    "max_year = df['Year'].max()\n",
    "\n",
    "train_data = df[df['Year'] < max_year]\n",
    "test_data = df[df['Year'] == max_year]\n",
    "\n",
    "X_train_num = train_data.select_dtypes(include=np.number).drop(columns=['Year'])\n",
    "X_test_num = test_data.select_dtypes(include=np.number).drop(columns=['Year'])\n",
    "\n",
    "X_train_cat = train_data.select_dtypes(include='object').drop(columns=['RainTomorrow'])\n",
    "X_test_cat = test_data.select_dtypes(include='object').drop(columns=['RainTomorrow'])\n",
    "\n",
    "y_train = train_data['RainTomorrow']\n",
    "y_test = test_data['RainTomorrow']\n",
    "\n",
    "print(\"X_train_num shape:\", X_train_num.shape)\n",
    "print(\"X_test_num shape:\", X_test_num.shape)\n",
    "print(\"X_train_cat shape:\", X_train_cat.shape)\n",
    "print(\"X_test_cat shape:\", X_test_cat.shape)\n",
    "print(\"y_train shape:\", y_train.shape)\n",
    "print(\"y_test shape:\", y_test.shape)"
   ]
  },
  {
   "cell_type": "markdown",
   "metadata": {
    "id": "VdYPQ8lKKCNA"
   },
   "source": [
    "\n",
    "4. Відновіть пропущені дані за допомогою об'єкта SimpleImputer з пакету sklearn.\n",
    "\n"
   ]
  },
  {
   "cell_type": "code",
   "execution_count": null,
   "metadata": {
    "colab": {
     "base_uri": "https://localhost:8080/"
    },
    "executionInfo": {
     "elapsed": 1049,
     "status": "ok",
     "timestamp": 1727452938066,
     "user": {
      "displayName": "Julia",
      "userId": "10787706266819933010"
     },
     "user_tz": -180
    },
    "id": "du2oih8OKDvG",
    "outputId": "cfb3ea2e-8d9e-4428-c9bf-eedcbe718400"
   },
   "outputs": [
    {
     "name": "stdout",
     "output_type": "stream",
     "text": [
      "Missing values in training numerical features: 0\n",
      "Missing values in testing numerical features: 0\n",
      "Missing values in training categorical features: 0\n",
      "Missing values in testing categorical features: 0\n"
     ]
    }
   ],
   "source": [
    "num_imputer = SimpleImputer(strategy='mean')\n",
    "X_train_num = pd.DataFrame(num_imputer.fit_transform(X_train_num), columns=X_train_num.columns)\n",
    "X_test_num = pd.DataFrame(num_imputer.transform(X_test_num), columns=X_test_num.columns)\n",
    "\n",
    "cat_imputer = SimpleImputer(strategy='most_frequent')\n",
    "X_train_cat = pd.DataFrame(cat_imputer.fit_transform(X_train_cat), columns=X_train_cat.columns)\n",
    "X_test_cat = pd.DataFrame(cat_imputer.transform(X_test_cat), columns=X_test_cat.columns)\n",
    "\n",
    "print(\"Missing values in training numerical features:\", X_train_num.isna().sum().sum())\n",
    "print(\"Missing values in testing numerical features:\", X_test_num.isna().sum().sum())\n",
    "print(\"Missing values in training categorical features:\", X_train_cat.isna().sum().sum())\n",
    "print(\"Missing values in testing categorical features:\", X_test_cat.isna().sum().sum())"
   ]
  },
  {
   "cell_type": "markdown",
   "metadata": {
    "id": "sWFBOSLhKQ4K"
   },
   "source": [
    "5. Нормалізуйте числові ознаки за допомогою об'єкта StandardScaler з пакету sklearn.\n",
    "\n"
   ]
  },
  {
   "cell_type": "code",
   "execution_count": null,
   "metadata": {
    "colab": {
     "base_uri": "https://localhost:8080/"
    },
    "executionInfo": {
     "elapsed": 333,
     "status": "ok",
     "timestamp": 1727453081176,
     "user": {
      "displayName": "Julia",
      "userId": "10787706266819933010"
     },
     "user_tz": -180
    },
    "id": "ZKFBY9XPKRvS",
    "outputId": "1b3356bf-9930-4ecc-bac5-71b9069e29fb"
   },
   "outputs": [
    {
     "name": "stdout",
     "output_type": "stream",
     "text": [
      "    MinTemp   MaxTemp  Rainfall  WindGustSpeed  WindSpeed9am  WindSpeed3pm  \\\n",
      "0  0.205482 -0.030108 -0.207381       0.292771      0.667526      0.602373   \n",
      "1 -0.736944  0.279808 -0.278796       0.292771     -1.134272      0.373916   \n",
      "2  0.126946  0.364331 -0.278796       0.444575      0.554913      0.830830   \n",
      "3 -0.454216  0.688335 -0.278796      -1.225267     -0.345986     -1.111055   \n",
      "4  0.849473  1.294081 -0.159771       0.065065     -0.796435      0.145459   \n",
      "\n",
      "   Humidity9am  Humidity3pm  Pressure9am  Pressure3pm   Temp9am   Temp3pm  \\\n",
      "0     0.121932    -1.433143    -1.470784    -1.216395 -0.001583  0.031333   \n",
      "1    -1.303491    -1.287215    -1.040659    -1.111524  0.044840  0.395202   \n",
      "2    -1.620251    -1.044002    -1.485616    -0.976689  0.632863  0.235100   \n",
      "3    -1.250697    -1.724999    -0.002427    -0.362443  0.184108  0.715406   \n",
      "4     0.702659    -0.898074    -1.010995    -1.381193  0.137685  1.181158   \n",
      "\n",
      "      Month  \n",
      "0  1.580628  \n",
      "1  1.580628  \n",
      "2  1.580628  \n",
      "3  1.580628  \n",
      "4  1.580628  \n",
      "    MinTemp   MaxTemp  Rainfall  WindGustSpeed  WindSpeed9am  WindSpeed3pm  \\\n",
      "0  0.535331  1.195471 -0.278796      -0.086738     -0.571210      0.602373   \n",
      "1  0.441088  1.251820 -0.278796      -0.390346     -0.571210     -1.111055   \n",
      "2  0.252603  1.251820 -0.278796      -1.225267     -0.120761     -1.453740   \n",
      "3  0.645281  1.392691 -0.278796      -1.073463     -0.120761     -1.111055   \n",
      "4  0.928008  1.463126 -0.278796      -0.390346     -0.345986     -1.339512   \n",
      "\n",
      "   Humidity9am  Humidity3pm  Pressure9am  Pressure3pm   Temp9am   Temp3pm  \\\n",
      "0    -0.300416    -1.287215    -1.856413    -1.665844  1.004247  1.428589   \n",
      "1    -0.300416    -1.044002    -0.966500    -0.796910  0.570966  1.297596   \n",
      "2    -0.933937    -1.044002     0.131060    -0.077792  0.648338  1.152049   \n",
      "3    -0.828350    -1.092644     0.116228     0.027079  1.081618  1.399480   \n",
      "4    -1.092317    -1.044002    -0.017259    -0.317498  1.143515  1.574137   \n",
      "\n",
      "      Month  \n",
      "0 -1.633321  \n",
      "1 -1.633321  \n",
      "2 -1.633321  \n",
      "3 -1.633321  \n",
      "4 -1.633321  \n"
     ]
    }
   ],
   "source": [
    "scaler = StandardScaler()\n",
    "\n",
    "X_train_num_scaled = pd.DataFrame(scaler.fit_transform(X_train_num), columns=X_train_num.columns)\n",
    "X_test_num_scaled = pd.DataFrame(scaler.transform(X_test_num), columns=X_test_num.columns)\n",
    "\n",
    "print(X_train_num_scaled.head())\n",
    "print(X_test_num_scaled.head())"
   ]
  },
  {
   "cell_type": "markdown",
   "metadata": {
    "id": "bNa0yMPrKulP"
   },
   "source": [
    "6. Виконайте кодування категоріальних ознак за допомогою об’єкта OneHotEncoder з пакету sklearn.\n"
   ]
  },
  {
   "cell_type": "code",
   "execution_count": null,
   "metadata": {
    "colab": {
     "base_uri": "https://localhost:8080/"
    },
    "executionInfo": {
     "elapsed": 1171,
     "status": "ok",
     "timestamp": 1727453280029,
     "user": {
      "displayName": "Julia",
      "userId": "10787706266819933010"
     },
     "user_tz": -180
    },
    "id": "PLJPRMjMKw7p",
    "outputId": "9b64cc31-e8d3-4c73-adee-6091733112e6"
   },
   "outputs": [
    {
     "name": "stdout",
     "output_type": "stream",
     "text": [
      "   Location_Adelaide  Location_Albany  Location_Albury  Location_AliceSprings  \\\n",
      "0                0.0              0.0              1.0                    0.0   \n",
      "1                0.0              0.0              1.0                    0.0   \n",
      "2                0.0              0.0              1.0                    0.0   \n",
      "3                0.0              0.0              1.0                    0.0   \n",
      "4                0.0              0.0              1.0                    0.0   \n",
      "\n",
      "   Location_BadgerysCreek  Location_Ballarat  Location_Bendigo  \\\n",
      "0                     0.0                0.0               0.0   \n",
      "1                     0.0                0.0               0.0   \n",
      "2                     0.0                0.0               0.0   \n",
      "3                     0.0                0.0               0.0   \n",
      "4                     0.0                0.0               0.0   \n",
      "\n",
      "   Location_Brisbane  Location_Cairns  Location_Canberra  ...  WindDir3pm_NW  \\\n",
      "0                0.0              0.0                0.0  ...            0.0   \n",
      "1                0.0              0.0                0.0  ...            0.0   \n",
      "2                0.0              0.0                0.0  ...            0.0   \n",
      "3                0.0              0.0                0.0  ...            0.0   \n",
      "4                0.0              0.0                0.0  ...            1.0   \n",
      "\n",
      "   WindDir3pm_S  WindDir3pm_SE  WindDir3pm_SSE  WindDir3pm_SSW  WindDir3pm_SW  \\\n",
      "0           0.0            0.0             0.0             0.0            0.0   \n",
      "1           0.0            0.0             0.0             0.0            0.0   \n",
      "2           0.0            0.0             0.0             0.0            0.0   \n",
      "3           0.0            0.0             0.0             0.0            0.0   \n",
      "4           0.0            0.0             0.0             0.0            0.0   \n",
      "\n",
      "   WindDir3pm_W  WindDir3pm_WNW  WindDir3pm_WSW  RainToday_Yes  \n",
      "0           0.0             1.0             0.0            0.0  \n",
      "1           0.0             0.0             1.0            0.0  \n",
      "2           0.0             0.0             1.0            0.0  \n",
      "3           0.0             0.0             0.0            0.0  \n",
      "4           0.0             0.0             0.0            0.0  \n",
      "\n",
      "[5 rows x 98 columns]\n",
      "   Location_Adelaide  Location_Albany  Location_Albury  Location_AliceSprings  \\\n",
      "0                0.0              0.0              1.0                    0.0   \n",
      "1                0.0              0.0              1.0                    0.0   \n",
      "2                0.0              0.0              1.0                    0.0   \n",
      "3                0.0              0.0              1.0                    0.0   \n",
      "4                0.0              0.0              1.0                    0.0   \n",
      "\n",
      "   Location_BadgerysCreek  Location_Ballarat  Location_Bendigo  \\\n",
      "0                     0.0                0.0               0.0   \n",
      "1                     0.0                0.0               0.0   \n",
      "2                     0.0                0.0               0.0   \n",
      "3                     0.0                0.0               0.0   \n",
      "4                     0.0                0.0               0.0   \n",
      "\n",
      "   Location_Brisbane  Location_Cairns  Location_Canberra  ...  WindDir3pm_NW  \\\n",
      "0                0.0              0.0                0.0  ...            0.0   \n",
      "1                0.0              0.0                0.0  ...            0.0   \n",
      "2                0.0              0.0                0.0  ...            0.0   \n",
      "3                0.0              0.0                0.0  ...            0.0   \n",
      "4                0.0              0.0                0.0  ...            0.0   \n",
      "\n",
      "   WindDir3pm_S  WindDir3pm_SE  WindDir3pm_SSE  WindDir3pm_SSW  WindDir3pm_SW  \\\n",
      "0           0.0            0.0             0.0             0.0            0.0   \n",
      "1           0.0            0.0             0.0             0.0            0.0   \n",
      "2           0.0            0.0             0.0             0.0            0.0   \n",
      "3           0.0            0.0             0.0             0.0            0.0   \n",
      "4           0.0            0.0             0.0             0.0            0.0   \n",
      "\n",
      "   WindDir3pm_W  WindDir3pm_WNW  WindDir3pm_WSW  RainToday_Yes  \n",
      "0           1.0             0.0             0.0            0.0  \n",
      "1           0.0             1.0             0.0            0.0  \n",
      "2           1.0             0.0             0.0            0.0  \n",
      "3           0.0             0.0             0.0            0.0  \n",
      "4           0.0             0.0             0.0            0.0  \n",
      "\n",
      "[5 rows x 98 columns]\n"
     ]
    }
   ],
   "source": [
    "encoder = (OneHotEncoder(drop='if_binary',\n",
    "                         sparse_output=False)\n",
    "           .set_output(transform='pandas'))\n",
    "\n",
    "X_train_cat_encoded = pd.DataFrame(encoder.fit_transform(X_train_cat),\n",
    "                                   columns=encoder.get_feature_names_out(X_train_cat.columns))\n",
    "X_test_cat_encoded = pd.DataFrame(encoder.transform(X_test_cat),\n",
    "                                  columns=encoder.get_feature_names_out(X_test_cat.columns))\n",
    "\n",
    "print(X_train_cat_encoded.head())\n",
    "print(X_test_cat_encoded.head())"
   ]
  },
  {
   "cell_type": "markdown",
   "metadata": {
    "id": "h3h5s4YTQHgi"
   },
   "source": [
    "7. Об'єднайте підмножини з числовими і категоріальними ознаками (після кодування) для побудови моделі за допомогою об’єкта LogisticRegression з пакету sklearn."
   ]
  },
  {
   "cell_type": "code",
   "execution_count": null,
   "metadata": {
    "colab": {
     "base_uri": "https://localhost:8080/"
    },
    "executionInfo": {
     "elapsed": 326,
     "status": "ok",
     "timestamp": 1727453510127,
     "user": {
      "displayName": "Julia",
      "userId": "10787706266819933010"
     },
     "user_tz": -180
    },
    "id": "4IedTitJQKdj",
    "outputId": "898cca48-0a84-4a60-fb32-4b93afa3323e"
   },
   "outputs": [
    {
     "name": "stdout",
     "output_type": "stream",
     "text": [
      "X_train_combined shape: (133727, 111)\n",
      "X_test_combined shape: (8466, 111)\n"
     ]
    }
   ],
   "source": [
    "X_train_combined = pd.concat([X_train_num_scaled, X_train_cat_encoded], axis=1)\n",
    "X_test_combined = pd.concat([X_test_num_scaled, X_test_cat_encoded], axis=1)\n",
    "\n",
    "print(\"X_train_combined shape:\", X_train_combined.shape)\n",
    "print(\"X_test_combined shape:\", X_test_combined.shape)"
   ]
  },
  {
   "cell_type": "markdown",
   "metadata": {
    "id": "ccv5ak3iQ87B"
   },
   "source": [
    "8. Розрахуйте метрики нової моделі за допомогою методу classification_report() з пакета sklearn, порівняйте із метриками моделі, отриманими в розділі «Практика застосування логістичної регресії. Навчання й оцінка моделі. Оцінювання точності моделі» теми «Логістична регресія. Оцінка якості класифікації», зробіть висновки.\n"
   ]
  },
  {
   "cell_type": "code",
   "execution_count": null,
   "metadata": {
    "colab": {
     "base_uri": "https://localhost:8080/"
    },
    "collapsed": true,
    "executionInfo": {
     "elapsed": 37321,
     "status": "ok",
     "timestamp": 1727454040882,
     "user": {
      "displayName": "Julia",
      "userId": "10787706266819933010"
     },
     "user_tz": -180
    },
    "id": "jknpf1kKQQ0w",
    "jupyter": {
     "outputs_hidden": true
    },
    "outputId": "324095ed-8bdb-473d-8caf-97a5f22a65ea"
   },
   "outputs": [
    {
     "name": "stdout",
     "output_type": "stream",
     "text": [
      "\n",
      "Metrics for solver: liblinear\n",
      "              precision    recall  f1-score   support\n",
      "\n",
      "          No       0.87      0.96      0.91      6703\n",
      "         Yes       0.72      0.44      0.55      1763\n",
      "\n",
      "    accuracy                           0.85      8466\n",
      "   macro avg       0.79      0.70      0.73      8466\n",
      "weighted avg       0.84      0.85      0.83      8466\n",
      "\n",
      "\n",
      "Metrics for solver: lbfgs\n",
      "              precision    recall  f1-score   support\n",
      "\n",
      "          No       0.87      0.96      0.91      6703\n",
      "         Yes       0.72      0.44      0.55      1763\n",
      "\n",
      "    accuracy                           0.85      8466\n",
      "   macro avg       0.79      0.70      0.73      8466\n",
      "weighted avg       0.84      0.85      0.83      8466\n",
      "\n",
      "\n",
      "Metrics for solver: saga\n",
      "              precision    recall  f1-score   support\n",
      "\n",
      "          No       0.87      0.96      0.91      6703\n",
      "         Yes       0.72      0.44      0.55      1763\n",
      "\n",
      "    accuracy                           0.85      8466\n",
      "   macro avg       0.79      0.70      0.73      8466\n",
      "weighted avg       0.84      0.85      0.83      8466\n",
      "\n"
     ]
    }
   ],
   "source": [
    "solvers = ['liblinear', 'lbfgs', 'saga']\n",
    "\n",
    "solver_reports = {}\n",
    "\n",
    "for solver in solvers:\n",
    "    print(f\"\\nMetrics for solver: {solver}\")\n",
    "\n",
    "    clf = LogisticRegression(solver=solver, max_iter=1000, random_state=42)\n",
    "    clf.fit(X_train_combined, y_train)\n",
    "\n",
    "    y_pred = clf.predict(X_test_combined)\n",
    "\n",
    "    report = classification_report(y_test, y_pred, output_dict=True)\n",
    "    solver_reports[solver] = report\n",
    "\n",
    "    print(classification_report(y_test, y_pred))"
   ]
  },
  {
   "cell_type": "markdown",
   "metadata": {
    "id": "zNgjW86hSxjK"
   },
   "source": [
    "### Звіт про класифікацію\n",
    "\n",
    "| Метрика          | Клас \"Ні\" | Клас \"Так\" | Точність | Середнє по класах (macro avg) | Зважене середнє (weighted avg) | Кількість (support) |\n",
    "|------------------|------------|------------|----------|-------------------------------|--------------------------------|---------------------|\n",
    "| **liblinear**     |            |            |          |                               |                                |                     |\n",
    "| Точність (precision)  | 0.87       | 0.72       | 0.85     | 0.79                          | 0.84                           | 8466                |\n",
    "| Повнота (recall)      | 0.96       | 0.44       |          | 0.70                          | 0.85                           |                     |\n",
    "| F1-оцінка (f1-score)  | 0.91       | 0.55       |          | 0.73                          | 0.83                           |                     |\n",
    "| **lbfgs**         |            |            |          |                               |                                |                     |\n",
    "| Точність (precision)  | 0.87       | 0.72       | 0.85     | 0.79                          | 0.84                           | 8466                |\n",
    "| Повнота (recall)      | 0.96       | 0.44       |          | 0.70                          | 0.85                           |                     |\n",
    "| F1-оцінка (f1-score)  | 0.91       | 0.55       |          | 0.73                          | 0.83                           |                     |\n",
    "| **saga**          |            |            |          |                               |                                |                     |\n",
    "| Точність (precision)  | 0.87       | 0.72       | 0.85     | 0.79                          | 0.84                           | 8466                |\n",
    "| Повнота (recall)      | 0.96       | 0.44       |          | 0.70                          | 0.85                           |                     |\n",
    "| F1-оцінка (f1-score)  | 0.91       | 0.55       |          | 0.73                          | 0.83                           |                     |\n",
    "\n",
    "### Основні спостереження:\n",
    "\n",
    "- **Точність (precision)** для класу \"Ні\" висока для всіх солверів (0.87).\n",
    "- **Повнота (recall)** для класу \"Так\" є відносно низькою (0.44), що означає, що модель може пропускати деякі позитивні випадки.\n",
    "- **Точність (accuracy)** стабільна для всіх солверів (0.85), що трохи краще, ніж очікувані 0.80.\n",
    "- **Середнє по класах (macro avg)** та **зважене середнє (weighted avg)** мають схожі значення, що свідчить про збалансовану роботу моделі для обох класів.\n",
    "\n",
    "### Висновки:\n",
    "\n",
    "- Всі солвери (`liblinear`, `lbfgs`, та `saga`) показують подібні результати, без значних відмінностей у точності, повноті чи F1-оцінці.\n",
    "- Хоча загальна точність моделі є достатньо високою, низька повнота для класу \"Так\" свідчить про труднощі з ідентифікацією позитивних випадків.\n",
    "- Можна спробувати налаштувати модель далі або дослідити інші моделі, щоб покращити показники для класу \"Так\", залежно від того, наскільки важливим є коректне ідентифікування цього класу."
   ]
  },
  {
   "cell_type": "markdown",
   "metadata": {
    "id": "XSNTqoXkUd4q"
   },
   "source": [
    "**Щоб покращити показники для класу \"Так\", можна спробувати налаштувати гіперпараметри логістичної регресії:**\n",
    "\n",
    "\n",
    " * Балансування класів: Оскільки клас \"Так\" менш поширений, можна використовувати аргумент class_weight='balanced', щоб модель приділяла більше уваги цьому класу.\n",
    "\n",
    "* Регуляризація: Спробуй налаштувати параметр регуляризації C. За замовчуванням значення C=1.0. Зменшення C може допомогти знизити дисперсію моделі."
   ]
  },
  {
   "cell_type": "code",
   "execution_count": null,
   "metadata": {
    "colab": {
     "base_uri": "https://localhost:8080/"
    },
    "executionInfo": {
     "elapsed": 6066,
     "status": "ok",
     "timestamp": 1727454542136,
     "user": {
      "displayName": "Julia",
      "userId": "10787706266819933010"
     },
     "user_tz": -180
    },
    "id": "-QG997-PTex4",
    "outputId": "8f6d7747-e57b-4838-c053-6dc9e2d7c156"
   },
   "outputs": [
    {
     "name": "stdout",
     "output_type": "stream",
     "text": [
      "              precision    recall  f1-score   support\n",
      "\n",
      "          No       0.92      0.82      0.87      6703\n",
      "         Yes       0.52      0.71      0.60      1763\n",
      "\n",
      "    accuracy                           0.80      8466\n",
      "   macro avg       0.72      0.77      0.73      8466\n",
      "weighted avg       0.83      0.80      0.81      8466\n",
      "\n"
     ]
    }
   ],
   "source": [
    "# Налаштування з class_weight='balanced' та іншим значенням параметра C\n",
    "clf = LogisticRegression(solver='liblinear', class_weight='balanced', C=0.5, max_iter=1000, random_state=42)\n",
    "clf.fit(X_train_combined, y_train)\n",
    "y_pred = clf.predict(X_test_combined)\n",
    "\n",
    "# Оцінка метрик\n",
    "print(classification_report(y_test, y_pred))"
   ]
  },
  {
   "cell_type": "markdown",
   "metadata": {
    "id": "czFwl0qSVmUs"
   },
   "source": [
    "### Висновок порівняння першої логістичної регресії та після регулювання гіперпараметрів\n",
    "\n",
    "Після регулювання гіперпараметрів логістичної регресії ми спостерігаємо значне покращення метрик для класу \"Так\", хоча це супроводжується певними компромісами в інших аспектах.\n",
    "\n",
    "#### Основні зміни:\n",
    "\n",
    "1. **Повнота (recall) класу \"Так\"**:\n",
    "   - **До налаштування**: Повнота для класу \"Так\" становила лише **0.44**, що свідчить про те, що модель пропускала значну кількість позитивних випадків.\n",
    "   - **Після налаштування**: Повнота покращилася до **0.71**, що означає, що модель значно краще ідентифікує позитивні випадки. Це велике покращення і досягає головної мети налаштування.\n",
    "\n",
    "2. **Точність (precision) класу \"Так\"**:\n",
    "   - **До налаштування**: Точність була на рівні **0.72**, що означало менше хибнопозитивних результатів (помилкових ідентифікацій класу \"Так\").\n",
    "   - **Після налаштування**: Точність впала до **0.52**, що вказує на збільшення кількості хибнопозитивних випадків, тобто модель частіше помиляється, коли прогнозує клас \"Так\".\n",
    "\n",
    "3. **F1-оцінка для класу \"Так\"**:\n",
    "   - **До налаштування**: F1-оцінка для класу \"Так\" становила **0.55**, що є збалансованою оцінкою між точністю та повнотою.\n",
    "   - **Після налаштування**: F1-оцінка покращилася до **0.60**, що свідчить про покращення загальної продуктивності для класу \"Так\" з більшою орієнтацією на повноту.\n",
    "\n",
    "4. **Точність моделі (accuracy)**:\n",
    "   - **До налаштування**: Загальна точність моделі була **0.85**.\n",
    "   - **Після налаштування**: Точність знизилася до **0.80**, що є очікуваним, оскільки модель тепер намагається знайти більше позитивних випадків, що може знижувати загальну точність через більшу кількість хибнопозитивних результатів.\n",
    "\n",
    "#### Висновок:\n",
    "Налаштування гіперпараметрів дозволило значно покращити **повноту** для класу \"Так\", що означає, що модель краще ідентифікує позитивні випадки. Проте це досягнення було досягнуто за рахунок зниження **точності**, що призвело до збільшення кількості хибнопозитивних результатів. Загальна **точність моделі** також знизилася, але це допустимо, якщо головним пріоритетом є знаходження більшої кількості позитивних випадків.\n",
    "\n",
    "Якщо важливо, щоб модель виявляла максимальну кількість позитивних випадків (навіть якщо при цьому буде більше хибнопозитивних), то налаштована логістична регресія є кращим варіантом. Однак, якщо важливіша **точність** і уникнення хибнопозитивних прогнозів, то оригінальна модель або інші підходи можуть бути кращими."
   ]
  }
 ],
 "metadata": {
  "colab": {
   "authorship_tag": "ABX9TyPFjmwPQfedvfqy+t2XoLqI",
   "mount_file_id": "1tUeoXR7NUACPB1z7RZI4B5xb8q8eQqfD",
   "provenance": []
  },
  "kernelspec": {
   "display_name": "Python 3 (ipykernel)",
   "language": "python",
   "name": "python3"
  },
  "language_info": {
   "codemirror_mode": {
    "name": "ipython",
    "version": 3
   },
   "file_extension": ".py",
   "mimetype": "text/x-python",
   "name": "python",
   "nbconvert_exporter": "python",
   "pygments_lexer": "ipython3",
   "version": "3.12.2"
  }
 },
 "nbformat": 4,
 "nbformat_minor": 4
}

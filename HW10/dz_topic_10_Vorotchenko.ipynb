{
 "cells": [
  {
   "cell_type": "markdown",
   "id": "a3d7a094-1f48-48da-b287-89ae8fe2c733",
   "metadata": {},
   "source": [
    "**1. Завантажте набір даних Autos, як це показано в темі «Вступ до генерації ознак. Відбір ознак» в розділі «Поширені прийоми генерації ознак. Математичні перетворення».**"
   ]
  },
  {
   "cell_type": "code",
   "execution_count": 51,
   "id": "06f55194-e7e4-47d2-a427-702da17a858b",
   "metadata": {},
   "outputs": [],
   "source": [
    "import pandas as pd\n",
    "import pickle\n",
    "import os\n",
    "import matplotlib.pyplot as plt\n",
    "import seaborn as sns\n",
    "from sklearn.feature_selection import mutual_info_regression\n",
    "from sklearn.preprocessing import LabelEncoder\n",
    "from sklearn.ensemble import RandomForestRegressor\n",
    "from sklearn.model_selection import train_test_split"
   ]
  },
  {
   "cell_type": "code",
   "execution_count": 52,
   "id": "e3d75734-97af-4522-bdad-82bdef8aff68",
   "metadata": {},
   "outputs": [],
   "source": [
    "with open('mod_05_topic_10_various_data.pkl', 'rb') as file:\n",
    "    datasets = pickle.load(file)"
   ]
  },
  {
   "cell_type": "code",
   "execution_count": 53,
   "id": "6a7deb19-bbfe-4f18-b185-ec9f24dbf5b9",
   "metadata": {},
   "outputs": [
    {
     "name": "stdout",
     "output_type": "stream",
     "text": [
      "            make fuel_type aspiration  num_of_doors   body_style drive_wheels  \\\n",
      "0    alfa-romero       gas        std             2  convertible          rwd   \n",
      "1    alfa-romero       gas        std             2  convertible          rwd   \n",
      "2    alfa-romero       gas        std             2    hatchback          rwd   \n",
      "3           audi       gas        std             4        sedan          fwd   \n",
      "4           audi       gas        std             4        sedan          4wd   \n",
      "..           ...       ...        ...           ...          ...          ...   \n",
      "188        volvo       gas        std             4        sedan          rwd   \n",
      "189        volvo       gas      turbo             4        sedan          rwd   \n",
      "190        volvo       gas        std             4        sedan          rwd   \n",
      "191        volvo    diesel      turbo             4        sedan          rwd   \n",
      "192        volvo       gas      turbo             4        sedan          rwd   \n",
      "\n",
      "    engine_location  wheel_base  length  width  ...  engine_size  fuel_system  \\\n",
      "0             front        88.6   168.8   64.1  ...          130         mpfi   \n",
      "1             front        88.6   168.8   64.1  ...          130         mpfi   \n",
      "2             front        94.5   171.2   65.5  ...          152         mpfi   \n",
      "3             front        99.8   176.6   66.2  ...          109         mpfi   \n",
      "4             front        99.4   176.6   66.4  ...          136         mpfi   \n",
      "..              ...         ...     ...    ...  ...          ...          ...   \n",
      "188           front       109.1   188.8   68.9  ...          141         mpfi   \n",
      "189           front       109.1   188.8   68.8  ...          141         mpfi   \n",
      "190           front       109.1   188.8   68.9  ...          173         mpfi   \n",
      "191           front       109.1   188.8   68.9  ...          145          idi   \n",
      "192           front       109.1   188.8   68.9  ...          141         mpfi   \n",
      "\n",
      "     bore  stroke  compression_ratio horsepower  peak_rpm  city_mpg  \\\n",
      "0    3.47    2.68                  9        111      5000        21   \n",
      "1    3.47    2.68                  9        111      5000        21   \n",
      "2    2.68    3.47                  9        154      5000        19   \n",
      "3    3.19    3.40                 10        102      5500        24   \n",
      "4    3.19    3.40                  8        115      5500        18   \n",
      "..    ...     ...                ...        ...       ...       ...   \n",
      "188  3.78    3.15                  9        114      5400        23   \n",
      "189  3.78    3.15                  8        160      5300        19   \n",
      "190  3.58    2.87                  8        134      5500        18   \n",
      "191  3.01    3.40                 23        106      4800        26   \n",
      "192  3.78    3.15                  9        114      5400        19   \n",
      "\n",
      "     highway_mpg  price  \n",
      "0             27  13495  \n",
      "1             27  16500  \n",
      "2             26  16500  \n",
      "3             30  13950  \n",
      "4             22  17450  \n",
      "..           ...    ...  \n",
      "188           28  16845  \n",
      "189           25  19045  \n",
      "190           23  21485  \n",
      "191           27  22470  \n",
      "192           25  22625  \n",
      "\n",
      "[193 rows x 24 columns]\n"
     ]
    }
   ],
   "source": [
    "autos = datasets['autos']\n",
    "print(df_autos)\n",
    "df_autos = pd.DataFrame(autos)\n",
    "df_autos.to_csv(r'file.csv')"
   ]
  },
  {
   "cell_type": "markdown",
   "id": "778ce304-a9ae-4370-869f-0e147df2f87d",
   "metadata": {},
   "source": [
    "**2. Визначте перелік дискретних ознак (в широкому розумінні) для подальшого розрахунку показника взаємної інформації.**"
   ]
  },
  {
   "cell_type": "code",
   "execution_count": 54,
   "id": "dbf55e70-76f5-4403-8dfb-18143667620b",
   "metadata": {},
   "outputs": [
    {
     "name": "stdout",
     "output_type": "stream",
     "text": [
      "make                  21\n",
      "fuel_type              2\n",
      "aspiration             2\n",
      "num_of_doors           2\n",
      "body_style             5\n",
      "drive_wheels           3\n",
      "engine_location        2\n",
      "wheel_base            50\n",
      "length                71\n",
      "width                 41\n",
      "height                46\n",
      "curb_weight          165\n",
      "engine_type            5\n",
      "num_of_cylinders       6\n",
      "engine_size           40\n",
      "fuel_system            7\n",
      "bore                  38\n",
      "stroke                36\n",
      "compression_ratio      8\n",
      "horsepower            56\n",
      "peak_rpm              21\n",
      "city_mpg              28\n",
      "highway_mpg           30\n",
      "price                178\n",
      "dtype: int64\n"
     ]
    }
   ],
   "source": [
    "unique_values = df_autos.nunique()\n",
    "print(unique_values)"
   ]
  },
  {
   "cell_type": "markdown",
   "id": "1e9c9516-c93b-467a-950c-d9fba3b6fc6b",
   "metadata": {},
   "source": [
    "Після аналізу кількості унікальних значень для кожної ознаки в наборі даних, ми визначили наступний перелік дискретних ознак, які мають обмежену кількість категорій або можливих значень. Ці ознаки можна використовувати для розрахунку показника взаємної інформації або для подальшого кодування категорійних ознак.\n",
    "\n",
    "#### Опис дискретних ознак:\n",
    "1. **make** (21 унікальне значення): Виробник автомобіля.\n",
    "2. **fuel_type** (2 унікальні значення): Тип палива (наприклад, бензин, дизель).\n",
    "3. **aspiration** (2 унікальні значення): Тип наддуву (стандартний або турбований двигун).\n",
    "4. **num_of_doors** (2 унікальні значення): Кількість дверей в автомобілі (2 або 4).\n",
    "5. **body_style** (5 унікальних значень): Тип кузова (наприклад, кабріолет, седан, хетчбек).\n",
    "6. **drive_wheels** (3 унікальні значення): Тип приводу (передній, задній або повний привід).\n",
    "7. **engine_location** (2 унікальні значення): Розташування двигуна (переднє або заднє).\n",
    "8. **engine_type** (5 унікальних значень): Тип двигуна (наприклад, рядний, V-подібний).\n",
    "9. **num_of_cylinders** (6 унікальних значень): Кількість циліндрів в двигуні.\n",
    "10. **fuel_system** (7 унікальних значень): Тип паливної системи (наприклад, інжектор, карбюратор).\n",
    "11. **compression_ratio** (8 унікальних значень): Ступінь стиснення двигуна.\n",
    "\n",
    "#### Примітки:\n",
    "- **city_mpg** (28 унікальних значень) та **highway_mpg** (30 унікальних значень) можна трактувати як дискретні ознаки, якщо розглядати їх у контексті категорій (низький, середній, високий показники споживання пального).\n",
    "- Ознаки, такі як **wheel_base**, **length**, **curb_weight**, **engine_size**, **bore**, **stroke**, **horsepower** та **price**, мають багато унікальних значень і є неперервними. Тому їх не можна вважати дискретними."
   ]
  },
  {
   "cell_type": "code",
   "execution_count": 55,
   "id": "0e504e49-7fc9-4d65-ad10-19b9518c2a43",
   "metadata": {},
   "outputs": [],
   "source": [
    "discrete_features = ['make', 'fuel_type', 'aspiration', 'num_of_doors', 'body_style',\n",
    "                     'drive_wheels', 'engine_location', 'engine_type', 'num_of_cylinders', \n",
    "                     'fuel_system', 'compression_ratio']"
   ]
  },
  {
   "cell_type": "markdown",
   "id": "6e5765e7-d16c-40fb-bc8e-6200f847b14a",
   "metadata": {},
   "source": [
    "**3. Розрахуйте показник взаємної інформації для вхідних ознак і цільової змінної price за допомогою методу mutual_info_regression() з пакета sklearn.**"
   ]
  },
  {
   "cell_type": "code",
   "execution_count": 56,
   "id": "e396a2be-1501-48c7-92b9-77f8962cfff5",
   "metadata": {},
   "outputs": [
    {
     "name": "stdout",
     "output_type": "stream",
     "text": [
      "Показники взаємної інформації для кожної ознаки:\n",
      "fuel_system          0.470963\n",
      "num_of_cylinders     0.338294\n",
      "drive_wheels         0.332490\n",
      "make                 0.246537\n",
      "engine_type          0.145427\n",
      "compression_ratio    0.120536\n",
      "aspiration           0.087755\n",
      "body_style           0.072577\n",
      "fuel_type            0.047298\n",
      "num_of_doors         0.011409\n",
      "engine_location      0.000000\n",
      "dtype: float64\n"
     ]
    }
   ],
   "source": [
    "X_discrete = df[discrete_features]\n",
    "y = df['price']\n",
    "\n",
    "X_encoded = X_discrete.apply(LabelEncoder().fit_transform)\n",
    "mi = mutual_info_regression(X_encoded, y)\n",
    "\n",
    "mi_results = pd.Series(mi, index=discrete_features).sort_values(ascending=False)\n",
    "\n",
    "print(\"Показники взаємної інформації для кожної ознаки:\")\n",
    "print(mi_results)"
   ]
  },
  {
   "cell_type": "markdown",
   "id": "943e3138-d177-4e07-8cb3-1a608005c81c",
   "metadata": {},
   "source": [
    "**4. Побудуйте регресійну модель / ансамбль (наприклад, за допомогою обєкта RandomForestRegressorабоGradientBoostingRegressorз пакетаsklearn`) для ефективної оцінки важливості вхідних ознак, подібно до того, як ми це робили у темі «Дерева рішень. Важливість ознак в моделі» в розділі «Важливість ознак у моделі».**"
   ]
  },
  {
   "cell_type": "code",
   "execution_count": 57,
   "id": "974a207f-b3df-4bac-bdfc-7036d372b96f",
   "metadata": {},
   "outputs": [
    {
     "name": "stdout",
     "output_type": "stream",
     "text": [
      "Важливість ознак у моделі RandomForestRegressor:\n",
      "num_of_cylinders     0.484057\n",
      "drive_wheels         0.196963\n",
      "fuel_system          0.093702\n",
      "make                 0.088652\n",
      "body_style           0.039871\n",
      "compression_ratio    0.029960\n",
      "engine_type          0.023590\n",
      "aspiration           0.014591\n",
      "engine_location      0.013630\n",
      "num_of_doors         0.012567\n",
      "fuel_type            0.002417\n",
      "dtype: float64\n"
     ]
    }
   ],
   "source": [
    "X = X_encoded\n",
    "y = df_autos['price']\n",
    "\n",
    "X_train, X_test, y_train, y_test = train_test_split(X, y, test_size=0.2, random_state=42)\n",
    "\n",
    "model = RandomForestRegressor(n_estimators=100, random_state=42)\n",
    "model.fit(X_train, y_train)\n",
    "\n",
    "importances = model.feature_importances_\n",
    "\n",
    "rf_importance = pd.Series(importances, index=discrete_features).sort_values(ascending=False)\n",
    "print(\"Важливість ознак у моделі RandomForestRegressor:\")\n",
    "print(feature_importance)"
   ]
  },
  {
   "cell_type": "markdown",
   "id": "567ee7d6-a55a-4ccf-8a82-e82b8ca3c92a",
   "metadata": {},
   "source": [
    "**5. Масштабуйте / уніфікуйте різні за своєю природою показники взаємної інформації та важливості ознак у моделі за допомогою методу .rank(pct=True) об’єкта DataFrame з пакета pandas.**"
   ]
  },
  {
   "cell_type": "code",
   "execution_count": 58,
   "id": "36a69bae-2ec1-4902-9acb-6b5ac563cb27",
   "metadata": {},
   "outputs": [
    {
     "name": "stdout",
     "output_type": "stream",
     "text": [
      "Масштабовані показники:\n",
      "                   Mutual Information  Feature Importance\n",
      "aspiration                   0.454545            0.363636\n",
      "body_style                   0.363636            0.636364\n",
      "compression_ratio            0.545455            0.545455\n",
      "drive_wheels                 0.818182            0.909091\n",
      "engine_location              0.090909            0.272727\n",
      "engine_type                  0.636364            0.454545\n",
      "fuel_system                  1.000000            0.818182\n",
      "fuel_type                    0.272727            0.090909\n",
      "make                         0.727273            0.727273\n",
      "num_of_cylinders             0.909091            1.000000\n",
      "num_of_doors                 0.181818            0.181818\n"
     ]
    }
   ],
   "source": [
    "combined_importance = pd.DataFrame({\n",
    "    'Mutual Information': mi_results,\n",
    "    'Feature Importance': rf_importance\n",
    "})\n",
    "\n",
    "scaled_importance = combined_importance.rank(pct=True)\n",
    "\n",
    "print(\"Масштабовані показники:\")\n",
    "print(scaled_importance)"
   ]
  },
  {
   "cell_type": "code",
   "execution_count": 59,
   "id": "b9600240-c9fb-4b0c-be40-f1bffb80d6ea",
   "metadata": {},
   "outputs": [],
   "source": [
    "scaled_importance = combined_importance.rank(pct=True)\n",
    "scaled_importance_long = scaled_importance.reset_index().melt(id_vars='index', \n",
    "                                                              var_name='Metric', \n",
    "                                                              value_name='Scaled Value')"
   ]
  },
  {
   "cell_type": "markdown",
   "id": "44ec0983-5881-4424-99e6-e5058a0c2087",
   "metadata": {},
   "source": [
    "**6. Побудуйте візуалізацію типу grouped barsplots для порівняння обох наборів за допомогою методу catplot() з пакета seaborn.**"
   ]
  },
  {
   "cell_type": "code",
   "execution_count": 60,
   "id": "fc545b78-d190-4ec2-8823-83df73793fae",
   "metadata": {},
   "outputs": [
    {
     "data": {
      "image/png": "[encoded data removed]",
      "text/plain": [
       "<Figure size 800x1000 with 1 Axes>"
      ]
     },
     "metadata": {},
     "output_type": "display_data"
    }
   ],
   "source": [
    "sns.set(style=\"whitegrid\")\n",
    "plt.figure(figsize=(8,10))\n",
    "\n",
    "sns.barplot(\n",
    "    data=scaled_importance_long, \n",
    "    x='Scaled Value', \n",
    "    y='index', \n",
    "    hue='Metric',\n",
    "    palette=\"husl\"\n",
    ")\n",
    "\n",
    "plt.title('Порівняння взаємної інформації та важливості ознак у моделі RandomForest', fontsize=14)\n",
    "plt.ylabel('Ознаки')\n",
    "plt.xlabel('Масштабовані показники')\n",
    "plt.legend(title=\"Показник\", loc=\"best\", fontsize=10)\n",
    "\n",
    "plt.tight_layout()\n",
    "plt.show()"
   ]
  },
  {
   "cell_type": "code",
   "execution_count": null,
   "id": "d7d86ca5-91d1-4680-81d2-b40dfd27a9cb",
   "metadata": {},
   "outputs": [],
   "source": [
    "**7. Проаналізуйте візуалізацію та зробіть висновки.**"
   ]
  },
  {
   "cell_type": "markdown",
   "id": "4d44bdf3-048f-4cf2-84ed-92aab6ec3aad",
   "metadata": {},
   "source": [
    "### Аналіз візуалізації:\n",
    "\n",
    "З графіку видно масштабовані показники взаємної інформації та важливості ознак для моделі **RandomForestRegressor**. Ось ключові спостереження:\n",
    "\n",
    "1. **num_of_cylinders** (кількість циліндрів) має найбільшу важливість у моделі **RandomForestRegressor**, що підтверджується обома методами: взаємною інформацією та важливістю ознаки в моделі. Це вказує на сильний вплив цієї ознаки на прогнозування ціни автомобіля.\n",
    "\n",
    "2. **fuel_system** (паливна система) також має високий показник взаємної інформації, але її важливість у моделі **RandomForestRegressor** є дещо нижчою. Це може свідчити про те, що хоча паливна система містить корисну інформацію для передбачення ціни, вона менше використовується в процесі побудови дерев рішень.\n",
    "\n",
    "3. **drive_wheels** (привідні колеса) демонструють високу важливість. Привід також є значущою ознакою для прогнозування ціни автомобіля.\n",
    "\n",
    "4. **make** (виробник) отримує високу оцінку за обома показниками, що підтверджує, що бренд автомобіля є вагомим фактором при визначенні його ціни.\n",
    "\n",
    "5. **engine_type** (тип двигуна), **compression_ratio** (ступінь стиснення), **body_style** (тип кузова), і **aspiration** (наддув) мають середню або нижчу важливість у моделі, але все ж таки взаємна інформація показує їхню певну значимість.\n",
    "\n",
    "6. **fuel_type** (тип палива) і **num_of_doors** (кількість дверей) демонструють низьку важливість як у показниках взаємної інформації, так і в оцінці важливості ознак у моделі. Це може означати, що ці ознаки мають мінімальний вплив на прогнозовану ціну.\n",
    "\n",
    "7. **engine_location** (розташування двигуна) має майже нульову важливість в обох підходах, що означає відсутність значущого впливу цієї ознаки на ціну автомобіля.\n",
    "\n",
    "### Висновки:\n",
    "\n",
    "- Ключовими ознаками, що найбільше впливають на прогнозування ціни автомобіля, є **num_of_cylinders**, **drive_wheels**, **make**, та **fuel_system**.\n",
    "- Ознаки, як-от **engine_location**, **fuel_type**, і **num_of_doors**, не мають суттєвого впливу на ціну автомобіля і можуть бути менш корисними для моделі.\n",
    "- Важливість деяких ознак, як-от **fuel_system** і **body_style**, варіюється між підходами, що може свідчити про складність їх впливу на результат моделі."
   ]
  }
 ],
 "metadata": {
  "kernelspec": {
   "display_name": "Python 3 (ipykernel)",
   "language": "python",
   "name": "python3"
  },
  "language_info": {
   "codemirror_mode": {
    "name": "ipython",
    "version": 3
   },
   "file_extension": ".py",
   "mimetype": "text/x-python",
   "name": "python",
   "nbconvert_exporter": "python",
   "pygments_lexer": "ipython3",
   "version": "3.12.2"
  }
 },
 "nbformat": 4,
 "nbformat_minor": 5
}

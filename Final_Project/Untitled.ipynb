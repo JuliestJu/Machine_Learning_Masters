{
 "cells": [
  {
   "cell_type": "code",
   "execution_count": 1,
   "id": "409b7fb3-73aa-4b89-919d-a7a7872df215",
   "metadata": {},
   "outputs": [],
   "source": [
    "import pandas as pd\n",
    "import matplotlib.pyplot as plt\n",
    "from feature_summary import export_feature_summary\n",
    "from round_to_nearest import round_to_nearest_multiple\n",
    "from split_dataset_by_missing_and_type import *\n",
    "from sklearn.impute import SimpleImputer\n",
    "from sklearn.impute import KNNImputer\n",
    "from sklearn.preprocessing import LabelEncoder\n",
    "from sklearn.preprocessing import MinMaxScaler\n",
    "from sklearn.preprocessing import StandardScaler\n",
    "import seaborn as sns\n",
    "import hashlib\n",
    "from sklearn.preprocessing import PowerTransformer\n",
    "from clean_data_helper import *\n",
    "from preprocessing_helper import *"
   ]
  },
  {
   "cell_type": "code",
   "execution_count": 2,
   "id": "9f000026-b79e-4eb8-8d1d-2ca7d4b188e2",
   "metadata": {},
   "outputs": [
    {
     "name": "stdout",
     "output_type": "stream",
     "text": [
      "(10000, 231)\n",
      "(2500, 230)\n"
     ]
    }
   ],
   "source": [
    "data = pd.read_csv('final_proj_data.csv')\n",
    "test_data = pd.read_csv('final_proj_test.csv')\n",
    "print(data.shape)\n",
    "print(test_data.shape)"
   ]
  },
  {
   "cell_type": "code",
   "execution_count": 3,
   "id": "a640d758-b123-4e1b-bf0d-419f81829bde",
   "metadata": {},
   "outputs": [
    {
     "name": "stdout",
     "output_type": "stream",
     "text": [
      "New dataset shape after column removal: (10000, 67)\n",
      "New dataset shape after removing rows with more than 30% missing columns: (9080, 67)\n"
     ]
    }
   ],
   "source": [
    "cleaned_data = remove_columns_with_missing_values(data, 0.25)\n",
    "cleaned_data = remove_rows_with_missing_values(cleaned_data)\n",
    "cleaned_data.to_csv('cleaned_data.csv', index=False)"
   ]
  },
  {
   "cell_type": "code",
   "execution_count": 4,
   "id": "9dbe0e8f-1a11-4b25-98b4-0b2123bc9873",
   "metadata": {},
   "outputs": [],
   "source": [
    "numeric_df, categorical_df = split_dataset(cleaned_data)\n",
    "# numeric_df.to_csv('numeric_df.csv', index=False)\n",
    "# categorical_df.to_csv('categorical_df.csv', index=False)"
   ]
  },
  {
   "cell_type": "markdown",
   "id": "c5576789-8b59-4217-a2a2-73a7e2fd2f24",
   "metadata": {},
   "source": [
    "### Imputation"
   ]
  },
  {
   "cell_type": "markdown",
   "id": "27b74889-c102-4683-a366-67b1bfa66ac8",
   "metadata": {},
   "source": [
    "#### Numericals"
   ]
  },
  {
   "cell_type": "code",
   "execution_count": 5,
   "id": "5e2c871e-6f10-4ee7-86b7-cfda9e91f5cb",
   "metadata": {},
   "outputs": [
    {
     "name": "stdout",
     "output_type": "stream",
     "text": [
      "Feature summary exported to num_sum_missing.csv\n"
     ]
    }
   ],
   "source": [
    "df_with_missing, df_without_missing = split_dataframe_by_missing_values(numeric_df)\n",
    "export_feature_summary(df_with_missing, 'num_sum_missing.csv', unique_threshold = 15)\n",
    "df_with_missing.to_csv('df_with_missing.csv', index=False)"
   ]
  },
  {
   "cell_type": "code",
   "execution_count": 6,
   "id": "fbd37324-bdc7-49e0-aaa3-377fff4f1af9",
   "metadata": {},
   "outputs": [
    {
     "name": "stdout",
     "output_type": "stream",
     "text": [
      "{'low_unique_features': ['Var7'], 'moderate_unique_features': ['Var65', 'Var144'], 'high_unique_features': ['Var6', 'Var13', 'Var21', 'Var24', 'Var74', 'Var81', 'Var109', 'Var119', 'Var125', 'Var140', 'Var149'], 'high_missing_features': []}\n"
     ]
    }
   ],
   "source": [
    "result = get_imputation_feature_lists_from_dataset(df_with_missing, missing_threshold=0.2)\n",
    "print(result)"
   ]
  },
  {
   "cell_type": "code",
   "execution_count": 7,
   "id": "11742bdd-189c-4011-8ff0-703cacfb0544",
   "metadata": {},
   "outputs": [
    {
     "name": "stdout",
     "output_type": "stream",
     "text": [
      "     Var6  Var7   Var13  Var21  Var24  Var65  Var74      Var81  Var109  \\\n",
      "0   812.0  14.0  1252.0  156.0    0.0   27.0   14.0  227693.10    32.0   \n",
      "1  2688.0   7.0  8820.0  364.0    4.0    9.0  210.0   17662.35   112.0   \n",
      "2  1015.0  14.0  1784.0  136.0    2.0   18.0   98.0  190181.10    32.0   \n",
      "3   168.0   0.0     0.0   24.0    0.0    9.0    0.0  348843.00    16.0   \n",
      "4    14.0   0.0     0.0   36.0    0.0    9.0    0.0  235971.00     8.0   \n",
      "\n",
      "   Var119   Var125  Var140  Var144    Var149  \n",
      "0   525.0   4743.0   410.0    27.0       0.0  \n",
      "1  1065.0  44541.0    60.0     9.0  398034.0  \n",
      "2   625.0  14751.0  5720.0    27.0  554421.0  \n",
      "3   275.0      0.0     0.0     9.0       0.0  \n",
      "4    45.0      0.0     0.0     0.0       0.0  \n"
     ]
    }
   ],
   "source": [
    "# Assuming df_with_missing is a subset of another DataFrame `df`\n",
    "# Ensure you create a copy to avoid SettingWithCopyWarning\n",
    "df_with_missing = df_with_missing.copy()\n",
    "\n",
    "# Define feature groups\n",
    "low_unique_features = ['Var7']\n",
    "moderate_unique_features = ['Var65', 'Var144']\n",
    "high_unique_features = ['Var6', 'Var13', 'Var21', 'Var24', 'Var74', \n",
    "                        'Var81', 'Var109', 'Var119', 'Var125', \n",
    "                        'Var140', 'Var149']\n",
    "\n",
    "# Numerical variables with a common divisor of 7\n",
    "numerical_divisor_7_group = ['Var7']\n",
    "\n",
    "# Numerical variables with a common divisor of 9\n",
    "numerical_divisor_9_group = ['Var144', 'Var65']\n",
    "\n",
    "# Imputation for low unique features (Mode Imputation)\n",
    "mode_imputer = SimpleImputer(strategy='most_frequent')\n",
    "df_with_missing.loc[:, low_unique_features] = mode_imputer.fit_transform(\n",
    "    df_with_missing[low_unique_features]\n",
    ")\n",
    "\n",
    "# Imputation for moderate unique features (Median Imputation)\n",
    "median_imputer = SimpleImputer(strategy='median')\n",
    "df_with_missing.loc[:, moderate_unique_features] = median_imputer.fit_transform(\n",
    "    df_with_missing[moderate_unique_features]\n",
    ")\n",
    "\n",
    "# Imputation for high unique features (Mean Imputation)\n",
    "mean_imputer = SimpleImputer(strategy='mean')\n",
    "df_with_missing.loc[:, high_unique_features] = mean_imputer.fit_transform(\n",
    "    df_with_missing[high_unique_features]\n",
    ")\n",
    "\n",
    "# Apply rounding to nearest multiple of 7 for Var7\n",
    "df_with_missing.loc[:, numerical_divisor_7_group] = df_with_missing[\n",
    "    numerical_divisor_7_group\n",
    "].apply(lambda x: round_to_nearest_multiple(x, 7))\n",
    "\n",
    "# Apply rounding to nearest multiple of 9 for Var144 and Var65\n",
    "for var in numerical_divisor_9_group:\n",
    "    df_with_missing.loc[:, var] = df_with_missing[var].apply(\n",
    "        lambda x: round_to_nearest_multiple(x, 9)\n",
    "    )\n",
    "print(df_with_missing.head())"
   ]
  },
  {
   "cell_type": "code",
   "execution_count": 8,
   "id": "4b4aebe0-5bbd-4294-ae78-54fcd76314be",
   "metadata": {},
   "outputs": [],
   "source": [
    "# Concatenate df_with_missing and df_without_missing by columns (axis=1)\n",
    "imputed_numeric_df = pd.concat([df_with_missing, df_without_missing], axis=1)\n",
    "# print(imputed_numeric_df.isnull().sum())"
   ]
  },
  {
   "cell_type": "markdown",
   "id": "de6adda0-5796-4453-9bd6-e644f7272441",
   "metadata": {},
   "source": [
    "#### Categorical"
   ]
  },
  {
   "cell_type": "code",
   "execution_count": 9,
   "id": "be70f181-acaf-4a93-aff2-238d5188d87e",
   "metadata": {},
   "outputs": [
    {
     "name": "stdout",
     "output_type": "stream",
     "text": [
      "Feature summary exported to df_with_missing_cat.csv\n"
     ]
    }
   ],
   "source": [
    "df_with_missing_cat, df_without_missing_cat = split_dataframe_by_missing_values(categorical_df)\n",
    "export_feature_summary(df_with_missing_cat, 'df_with_missing_cat.csv', unique_threshold = 15)\n",
    "df_with_missing_cat.to_csv('df_with_missing.csv', index=False)"
   ]
  },
  {
   "cell_type": "code",
   "execution_count": 10,
   "id": "b7d12476-9f03-45ed-8357-210657b5ee56",
   "metadata": {},
   "outputs": [],
   "source": [
    "df_with_missing_cat = df_with_missing_cat.copy()\n",
    "\n",
    "mode_imputing_columns = ['Var208', 'Var218', 'Var205', 'Var203', 'Var197']\n",
    "mode_imputer = SimpleImputer(strategy='most_frequent')\n",
    "df_with_missing_cat[mode_imputing_columns] = mode_imputer.fit_transform(df_with_missing_cat[mode_imputing_columns])\n",
    "\n",
    "columns_to_impute_with_unknown = ['Var223', 'Var219', 'Var206']\n",
    "df_with_missing_cat[columns_to_impute_with_unknown] = df_with_missing_cat[columns_to_impute_with_unknown].fillna('Unknown')\n",
    "\n",
    "columns_to_impute_frequency = ['Var197', 'Var192', 'Var217']\n",
    "df_with_missing_cat[columns_to_impute_frequency] = mode_imputer.fit_transform(df_with_missing_cat[columns_to_impute_frequency])"
   ]
  },
  {
   "cell_type": "code",
   "execution_count": 11,
   "id": "1f7b0a05-83a2-459d-b811-ad316896bf33",
   "metadata": {},
   "outputs": [
    {
     "data": {
      "text/plain": [
       "(9080, 67)"
      ]
     },
     "execution_count": 11,
     "metadata": {},
     "output_type": "execute_result"
    }
   ],
   "source": [
    "imputed_categroical_df = pd.concat([df_without_missing_cat, df_with_missing_cat], axis=1)\n",
    "full_imputed_data = pd.concat([imputed_numeric_df, imputed_categroical_df], axis=1)\n",
    "full_imputed_data.shape"
   ]
  },
  {
   "cell_type": "code",
   "execution_count": null,
   "id": "6695ac87-9038-4153-af3d-70559e2e5099",
   "metadata": {},
   "outputs": [],
   "source": []
  }
 ],
 "metadata": {
  "kernelspec": {
   "display_name": "Python 3 (ipykernel)",
   "language": "python",
   "name": "python3"
  },
  "language_info": {
   "codemirror_mode": {
    "name": "ipython",
    "version": 3
   },
   "file_extension": ".py",
   "mimetype": "text/x-python",
   "name": "python",
   "nbconvert_exporter": "python",
   "pygments_lexer": "ipython3",
   "version": "3.12.2"
  }
 },
 "nbformat": 4,
 "nbformat_minor": 5
}
